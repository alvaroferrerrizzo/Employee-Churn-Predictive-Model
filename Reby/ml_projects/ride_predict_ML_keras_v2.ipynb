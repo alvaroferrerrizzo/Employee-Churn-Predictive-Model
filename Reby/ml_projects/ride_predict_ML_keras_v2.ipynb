{
  "nbformat": 4,
  "nbformat_minor": 0,
  "metadata": {
    "colab": {
      "name": "ride_predict_ML_keras_v2.ipynb",
      "provenance": [],
      "collapsed_sections": [],
      "authorship_tag": "ABX9TyMa1YZI6RWw4riej0PqH/r2",
      "include_colab_link": true
    },
    "kernelspec": {
      "name": "python3",
      "display_name": "Python 3"
    },
    "accelerator": "GPU"
  },
  "cells": [
    {
      "cell_type": "markdown",
      "metadata": {
        "id": "view-in-github",
        "colab_type": "text"
      },
      "source": [
        "<a href=\"https://colab.research.google.com/github/alvaroferrerrizzo/Employee-Churn-Predictive-Model/blob/master/Reby/ml_projects/ride_predict_ML_keras_v2.ipynb\" target=\"_parent\"><img src=\"https://colab.research.google.com/assets/colab-badge.svg\" alt=\"Open In Colab\"/></a>"
      ]
    },
    {
      "cell_type": "code",
      "metadata": {
        "id": "ayGo_NkTQt8M"
      },
      "source": [
        "#following: https://www.kaggle.com/blaskowitz100/dnn-keras-and-categorical-feature-embedding\n",
        "import os \n",
        "import matplotlib.pylab as plt\n",
        "import pandas as pd\n",
        "\n",
        "import datetime, warnings, scipy \n",
        "import pandas as pd\n",
        "import numpy as np\n",
        "import seaborn as sns\n",
        "from sklearn import metrics, linear_model\n",
        "from sklearn.model_selection import train_test_split, cross_val_score, cross_val_predict\n",
        "from sklearn.preprocessing import StandardScaler\n",
        "\n",
        "import tensorflow as tf\n",
        "from tensorflow import keras\n",
        "from keras.models import Sequential,Model\n",
        "from keras.models import Model as KerasModel\n",
        "from keras.layers import Input, Dense, Activation, Reshape\n",
        "from keras.layers import Concatenate, Dropout\n",
        "from keras.layers.embeddings import Embedding\n",
        "from keras.callbacks import ModelCheckpoint\n",
        "from keras.utils import plot_model\n",
        "\n",
        "# Plotting\n",
        "import matplotlib.pyplot as plt\n",
        "#---\n",
        "from google.cloud import bigquery\n",
        "\n",
        "%matplotlib inline"
      ],
      "execution_count": 1,
      "outputs": []
    },
    {
      "cell_type": "code",
      "metadata": {
        "colab": {
          "base_uri": "https://localhost:8080/"
        },
        "id": "hRFEf1-RieXH",
        "outputId": "cb2beb9f-cb78-4675-abd6-c125ac888fc5"
      },
      "source": [
        "from packaging import version\n",
        "print(\"TensorFlow version: \", tf.__version__)\n",
        "assert version.parse(tf.__version__).release[0] >= 2, \\\n",
        "    \"This notebook requires TensorFlow 2.0 or above.\""
      ],
      "execution_count": null,
      "outputs": [
        {
          "output_type": "stream",
          "text": [
            "TensorFlow version:  2.4.1\n"
          ],
          "name": "stdout"
        }
      ]
    },
    {
      "cell_type": "code",
      "metadata": {
        "id": "_QRV6jkGcHlb"
      },
      "source": [
        "from google.colab import auth\n",
        "auth.authenticate_user()\n",
        "\n",
        "%load_ext google.colab.data_table\n",
        "project_id = 'reby-cloud'\n",
        "client = bigquery.Client(project=project_id)"
      ],
      "execution_count": null,
      "outputs": []
    },
    {
      "cell_type": "code",
      "metadata": {
        "id": "LRgFGszGjQhP"
      },
      "source": [
        "!rm -rf ./logs/ \n",
        "\n",
        "logdir=\"logs/fit/\" + datetime.datetime.now().strftime(\"%Y%m%d-%H%M%S\")\n",
        "tensorboard_callback = keras.callbacks.TensorBoard(log_dir=logdir)"
      ],
      "execution_count": 2,
      "outputs": []
    },
    {
      "cell_type": "code",
      "metadata": {
        "colab": {
          "base_uri": "https://localhost:8080/",
          "height": 35
        },
        "id": "p0CXC3fsjgOX",
        "outputId": "d64e005d-5b0a-4fb3-ebd7-cd1b496ef046"
      },
      "source": [
        "logdir"
      ],
      "execution_count": null,
      "outputs": [
        {
          "output_type": "execute_result",
          "data": {
            "application/vnd.google.colaboratory.intrinsic+json": {
              "type": "string"
            },
            "text/plain": [
              "'logs/fit/20210411-053230'"
            ]
          },
          "metadata": {
            "tags": []
          },
          "execution_count": 4
        }
      ]
    },
    {
      "cell_type": "code",
      "metadata": {
        "id": "czlw0CvT9Bg8"
      },
      "source": [
        "def get_keras_dataset(df):\n",
        "    X = {str(col) : np.array(df[col]) for col in df.columns}\n",
        "    return X"
      ],
      "execution_count": null,
      "outputs": []
    },
    {
      "cell_type": "code",
      "metadata": {
        "id": "o-KH8-wr9zPP"
      },
      "source": [
        "def plot_history(history):\n",
        "    fig = plt.figure(figsize=(15,8))\n",
        "    ax = plt.subplot(211)\n",
        "    \n",
        "    plt.xlabel('Epoch')\n",
        "    plt.ylabel('loss, acc')\n",
        "    \n",
        "    # Losses\n",
        "    ax.plot(history.epoch, history.history['loss'], label='Train LOSS')\n",
        "    ax.plot(history.epoch, history.history['val_loss'], label='Val LOSS')\n",
        "    ax.plot(history.epoch, history.history['accuracy'], label ='Train Accuracy')\n",
        "    ax.plot(history.epoch, history.history['val_accuracy'], label='Val Accuracy')\n",
        "    plt.legend()\n",
        "    \n",
        "    # Plot the learning_rate\n",
        "    if 'lr' in history.history:\n",
        "        ax = plt.subplot(212)\n",
        "        plt.ylabel('Learning rate')\n",
        "        ax.plot(history.epoch, history.history['lr'], label='learning_rate')\n",
        "        plt.legend()\n",
        "    plt.show()\n",
        "    plt.close(fig)"
      ],
      "execution_count": null,
      "outputs": []
    },
    {
      "cell_type": "code",
      "metadata": {
        "id": "D_dNE6KkfE-0"
      },
      "source": [
        "df_main = client.query('''\n",
        "\n",
        "    SELECT \n",
        "    met_ride,\n",
        "    h3,\n",
        "    rfm.segment,\n",
        "    hour,\n",
        "    week_day,\n",
        "    area,\n",
        "    demand_met,\n",
        "    credit,\n",
        "    promotion,\n",
        "    plan_activated,\n",
        "    total_rides_before_mv,\n",
        "    avg_ride_distance,\n",
        "    diff_last_ride,\n",
        "    payment_times,\n",
        "    total_payment_amount/100 as total_payment_amount,\n",
        "    diff_mv_ts_day,\n",
        "    historic_conversion,\n",
        "    latest_kick_scooter_rides,\n",
        "    latest_motorcycle_rides,\n",
        "    latest_bicycle_rides,\n",
        "    rides_last_30_days,\n",
        "    kick_scooter_nearby,\n",
        "    avg_battery_level_kick_scooter,\n",
        "    bici_nearby,\n",
        "    avg_battery_level_bici,\n",
        "    moto_nearby\tavg_battery_level_moto\n",
        "from `reby-cloud.reby_demand_eu.demand_ride_analysis` ra\n",
        "left join `reby-cloud.reby_marketing_eu.rfm_users_30_days` as rfm\n",
        "  on ra.user_id = rfm.user_id and date(ra.mv_timestamp) = date(rfm.date)\n",
        "where date(mv_timestamp) > '2020-09-01'\n",
        "\n",
        "''' ).to_dataframe()"
      ],
      "execution_count": null,
      "outputs": []
    },
    {
      "cell_type": "code",
      "metadata": {
        "id": "NzZm6Y3xcB5Q"
      },
      "source": [
        "df_main = pd.read_csv('test_ml_3.csv')\n",
        "df_main=df_main.drop(columns={'Unnamed: 0'})\n",
        "#df_main.to_csv('test_ml_3.csv')"
      ],
      "execution_count": 3,
      "outputs": []
    },
    {
      "cell_type": "code",
      "metadata": {
        "id": "Am_y9ShJvGXR"
      },
      "source": [
        "df_all = df_main.copy()"
      ],
      "execution_count": 29,
      "outputs": []
    },
    {
      "cell_type": "code",
      "metadata": {
        "id": "v5QPibrI4Bzd"
      },
      "source": [
        "#we get rid of rows with no previous ride\n",
        "df_all = df_all[df_all['diff_last_ride'].notna()]\n",
        "df_all = df_all[df_all['segment'].notna()]\n",
        "df_all = df_all[df_all['diff_mv_ts_day'].notna()]"
      ],
      "execution_count": 30,
      "outputs": []
    },
    {
      "cell_type": "code",
      "metadata": {
        "colab": {
          "base_uri": "https://localhost:8080/"
        },
        "id": "Ack5WPIo3dtm",
        "outputId": "94d4973a-f3e6-4b56-d8c2-8b6ae619a8ad"
      },
      "source": [
        "#df_all.isna().sum()"
      ],
      "execution_count": null,
      "outputs": [
        {
          "output_type": "execute_result",
          "data": {
            "text/plain": [
              "met_ride                               0\n",
              "h3                                     0\n",
              "segment                                0\n",
              "hour                                   0\n",
              "week_day                               0\n",
              "area                                   0\n",
              "demand_met                             0\n",
              "credit                                 0\n",
              "promotion                              0\n",
              "plan_activated                         0\n",
              "total_rides_before_mv                  0\n",
              "avg_ride_distance                    189\n",
              "diff_last_ride                         0\n",
              "payment_times                          0\n",
              "total_payment_amount                   0\n",
              "diff_mv_ts_day                         0\n",
              "historic_conversion                    0\n",
              "latest_kick_scooter_rides              0\n",
              "latest_motorcycle_rides                0\n",
              "latest_bicycle_rides                   0\n",
              "rides_last_30_days                     0\n",
              "kick_scooter_nearby                    0\n",
              "avg_battery_level_kick_scooter    277362\n",
              "bici_nearby                            0\n",
              "avg_battery_level_bici            596904\n",
              "avg_battery_level_moto                 0\n",
              "dtype: int64"
            ]
          },
          "metadata": {
            "tags": []
          },
          "execution_count": 9
        }
      ]
    },
    {
      "cell_type": "code",
      "metadata": {
        "id": "zEkf054lpDTH"
      },
      "source": [
        "#df_all = df_all.loc[(df_all['area']=='Barcelona') & (df_all['total_rides_before_mv']>=5)]\n",
        "df_all = df_all.loc[df_all['total_rides_before_mv']>=1]"
      ],
      "execution_count": 25,
      "outputs": []
    },
    {
      "cell_type": "code",
      "metadata": {
        "colab": {
          "base_uri": "https://localhost:8080/"
        },
        "id": "OhsWQd2-RbWs",
        "outputId": "76c9fe78-ffd0-4589-b1c2-191215f05d5f"
      },
      "source": [
        "print(df_all.shape)\n",
        "df_all.reset_index(drop=True, inplace=True)"
      ],
      "execution_count": 31,
      "outputs": [
        {
          "output_type": "stream",
          "text": [
            "(609047, 26)\n"
          ],
          "name": "stdout"
        }
      ]
    },
    {
      "cell_type": "code",
      "metadata": {
        "colab": {
          "base_uri": "https://localhost:8080/",
          "height": 251
        },
        "id": "tdqOHvgHEn72",
        "outputId": "4465a999-48cf-4891-8536-5fe070e8b634"
      },
      "source": [
        "df_all.head()"
      ],
      "execution_count": 32,
      "outputs": [
        {
          "output_type": "execute_result",
          "data": {
            "text/html": [
              "<div>\n",
              "<style scoped>\n",
              "    .dataframe tbody tr th:only-of-type {\n",
              "        vertical-align: middle;\n",
              "    }\n",
              "\n",
              "    .dataframe tbody tr th {\n",
              "        vertical-align: top;\n",
              "    }\n",
              "\n",
              "    .dataframe thead th {\n",
              "        text-align: right;\n",
              "    }\n",
              "</style>\n",
              "<table border=\"1\" class=\"dataframe\">\n",
              "  <thead>\n",
              "    <tr style=\"text-align: right;\">\n",
              "      <th></th>\n",
              "      <th>met_ride</th>\n",
              "      <th>h3</th>\n",
              "      <th>segment</th>\n",
              "      <th>hour</th>\n",
              "      <th>week_day</th>\n",
              "      <th>area</th>\n",
              "      <th>demand_met</th>\n",
              "      <th>credit</th>\n",
              "      <th>promotion</th>\n",
              "      <th>plan_activated</th>\n",
              "      <th>total_rides_before_mv</th>\n",
              "      <th>avg_ride_distance</th>\n",
              "      <th>diff_last_ride</th>\n",
              "      <th>payment_times</th>\n",
              "      <th>total_payment_amount</th>\n",
              "      <th>diff_mv_ts_day</th>\n",
              "      <th>historic_conversion</th>\n",
              "      <th>latest_kick_scooter_rides</th>\n",
              "      <th>latest_motorcycle_rides</th>\n",
              "      <th>latest_bicycle_rides</th>\n",
              "      <th>rides_last_30_days</th>\n",
              "      <th>kick_scooter_nearby</th>\n",
              "      <th>avg_battery_level_kick_scooter</th>\n",
              "      <th>bici_nearby</th>\n",
              "      <th>avg_battery_level_bici</th>\n",
              "      <th>avg_battery_level_moto</th>\n",
              "    </tr>\n",
              "  </thead>\n",
              "  <tbody>\n",
              "    <tr>\n",
              "      <th>0</th>\n",
              "      <td>no</td>\n",
              "      <td>8839446015fffff</td>\n",
              "      <td>risk</td>\n",
              "      <td>16</td>\n",
              "      <td>Thu</td>\n",
              "      <td>Barcelona</td>\n",
              "      <td>not_met</td>\n",
              "      <td>1816</td>\n",
              "      <td>0</td>\n",
              "      <td>False</td>\n",
              "      <td>79</td>\n",
              "      <td>3382.288807</td>\n",
              "      <td>3.0</td>\n",
              "      <td>7</td>\n",
              "      <td>91.76</td>\n",
              "      <td>3.0</td>\n",
              "      <td>0.451977</td>\n",
              "      <td>0</td>\n",
              "      <td>10</td>\n",
              "      <td>0</td>\n",
              "      <td>48</td>\n",
              "      <td>0</td>\n",
              "      <td>NaN</td>\n",
              "      <td>0</td>\n",
              "      <td>NaN</td>\n",
              "      <td>0</td>\n",
              "    </tr>\n",
              "    <tr>\n",
              "      <th>1</th>\n",
              "      <td>yes</td>\n",
              "      <td>8839446033fffff</td>\n",
              "      <td>new heavy</td>\n",
              "      <td>19</td>\n",
              "      <td>Thu</td>\n",
              "      <td>Barcelona</td>\n",
              "      <td>not_met</td>\n",
              "      <td>0</td>\n",
              "      <td>906</td>\n",
              "      <td>False</td>\n",
              "      <td>6</td>\n",
              "      <td>2988.744050</td>\n",
              "      <td>6.0</td>\n",
              "      <td>0</td>\n",
              "      <td>0.00</td>\n",
              "      <td>0.0</td>\n",
              "      <td>0.500000</td>\n",
              "      <td>0</td>\n",
              "      <td>6</td>\n",
              "      <td>0</td>\n",
              "      <td>6</td>\n",
              "      <td>0</td>\n",
              "      <td>NaN</td>\n",
              "      <td>0</td>\n",
              "      <td>NaN</td>\n",
              "      <td>0</td>\n",
              "    </tr>\n",
              "    <tr>\n",
              "      <th>2</th>\n",
              "      <td>yes</td>\n",
              "      <td>88394460c7fffff</td>\n",
              "      <td>new heavy</td>\n",
              "      <td>19</td>\n",
              "      <td>Thu</td>\n",
              "      <td>Barcelona</td>\n",
              "      <td>not_met</td>\n",
              "      <td>0</td>\n",
              "      <td>906</td>\n",
              "      <td>False</td>\n",
              "      <td>6</td>\n",
              "      <td>2988.744050</td>\n",
              "      <td>6.0</td>\n",
              "      <td>0</td>\n",
              "      <td>0.00</td>\n",
              "      <td>6.0</td>\n",
              "      <td>0.444444</td>\n",
              "      <td>0</td>\n",
              "      <td>6</td>\n",
              "      <td>0</td>\n",
              "      <td>6</td>\n",
              "      <td>0</td>\n",
              "      <td>NaN</td>\n",
              "      <td>0</td>\n",
              "      <td>NaN</td>\n",
              "      <td>0</td>\n",
              "    </tr>\n",
              "    <tr>\n",
              "      <th>3</th>\n",
              "      <td>no</td>\n",
              "      <td>8839446013fffff</td>\n",
              "      <td>mid</td>\n",
              "      <td>17</td>\n",
              "      <td>Tue</td>\n",
              "      <td>Barcelona</td>\n",
              "      <td>met</td>\n",
              "      <td>0</td>\n",
              "      <td>226</td>\n",
              "      <td>False</td>\n",
              "      <td>7</td>\n",
              "      <td>3307.146429</td>\n",
              "      <td>0.0</td>\n",
              "      <td>0</td>\n",
              "      <td>0.00</td>\n",
              "      <td>0.0</td>\n",
              "      <td>0.294118</td>\n",
              "      <td>0</td>\n",
              "      <td>7</td>\n",
              "      <td>0</td>\n",
              "      <td>7</td>\n",
              "      <td>0</td>\n",
              "      <td>NaN</td>\n",
              "      <td>0</td>\n",
              "      <td>NaN</td>\n",
              "      <td>3</td>\n",
              "    </tr>\n",
              "    <tr>\n",
              "      <th>4</th>\n",
              "      <td>yes</td>\n",
              "      <td>8839446013fffff</td>\n",
              "      <td>mid</td>\n",
              "      <td>8</td>\n",
              "      <td>Tue</td>\n",
              "      <td>Barcelona</td>\n",
              "      <td>met</td>\n",
              "      <td>0</td>\n",
              "      <td>549</td>\n",
              "      <td>False</td>\n",
              "      <td>6</td>\n",
              "      <td>3218.228200</td>\n",
              "      <td>1.0</td>\n",
              "      <td>0</td>\n",
              "      <td>0.00</td>\n",
              "      <td>0.0</td>\n",
              "      <td>0.258065</td>\n",
              "      <td>0</td>\n",
              "      <td>6</td>\n",
              "      <td>0</td>\n",
              "      <td>6</td>\n",
              "      <td>0</td>\n",
              "      <td>NaN</td>\n",
              "      <td>0</td>\n",
              "      <td>NaN</td>\n",
              "      <td>4</td>\n",
              "    </tr>\n",
              "  </tbody>\n",
              "</table>\n",
              "</div>"
            ],
            "text/plain": [
              "  met_ride               h3  ... avg_battery_level_bici  avg_battery_level_moto\n",
              "0       no  8839446015fffff  ...                    NaN                       0\n",
              "1      yes  8839446033fffff  ...                    NaN                       0\n",
              "2      yes  88394460c7fffff  ...                    NaN                       0\n",
              "3       no  8839446013fffff  ...                    NaN                       3\n",
              "4      yes  8839446013fffff  ...                    NaN                       4\n",
              "\n",
              "[5 rows x 26 columns]"
            ]
          },
          "metadata": {
            "tags": []
          },
          "execution_count": 32
        }
      ]
    },
    {
      "cell_type": "code",
      "metadata": {
        "colab": {
          "base_uri": "https://localhost:8080/"
        },
        "id": "LLfO95e9Rncw",
        "outputId": "585fa772-e1df-4364-d1e3-79cb78cd2f06"
      },
      "source": [
        "df_all.groupby(['demand_met','met_ride']).size()"
      ],
      "execution_count": null,
      "outputs": [
        {
          "output_type": "execute_result",
          "data": {
            "text/plain": [
              "demand_met  met_ride\n",
              "met         no          172453\n",
              "            yes         204202\n",
              "not_met     no          154586\n",
              "            yes          77806\n",
              "dtype: int64"
            ]
          },
          "metadata": {
            "tags": []
          },
          "execution_count": 13
        }
      ]
    },
    {
      "cell_type": "code",
      "metadata": {
        "colab": {
          "base_uri": "https://localhost:8080/"
        },
        "id": "nUL0hbaZpAW5",
        "outputId": "3ed16d56-70d9-45fa-f9b1-37482b35b2c2"
      },
      "source": [
        "df_all.groupby(['demand_met']).size()"
      ],
      "execution_count": null,
      "outputs": [
        {
          "output_type": "execute_result",
          "data": {
            "text/plain": [
              "demand_met\n",
              "met        376655\n",
              "not_met    232392\n",
              "dtype: int64"
            ]
          },
          "metadata": {
            "tags": []
          },
          "execution_count": 14
        }
      ]
    },
    {
      "cell_type": "code",
      "metadata": {
        "colab": {
          "base_uri": "https://localhost:8080/"
        },
        "id": "ED-FyvAjpQ8_",
        "outputId": "898c448a-b8e9-4401-b8b5-af9345820bd4"
      },
      "source": [
        "df_all.groupby(['met_ride']).size()"
      ],
      "execution_count": null,
      "outputs": [
        {
          "output_type": "execute_result",
          "data": {
            "text/plain": [
              "met_ride\n",
              "no     327039\n",
              "yes    282008\n",
              "dtype: int64"
            ]
          },
          "metadata": {
            "tags": []
          },
          "execution_count": 15
        }
      ]
    },
    {
      "cell_type": "code",
      "metadata": {
        "id": "-IYd-Fcd-8hY"
      },
      "source": [
        "\n",
        "df_all=df_all.drop(columns={'avg_battery_level_kick_scooter','avg_battery_level_bici','avg_battery_level_moto'})\n",
        "#df_all=df_all.drop(columns={'area'})"
      ],
      "execution_count": 33,
      "outputs": []
    },
    {
      "cell_type": "code",
      "metadata": {
        "id": "-igVN_SvpihM"
      },
      "source": [
        "#telcom[\"SeniorCitizen\"] = telcom[\"SeniorCitizen\"].replace({1:\"Yes\", 0:\"No\"})\n",
        "#categorical data\n",
        "categorical_cols = ['segment', 'area']\n",
        "#categorical_cols = ['segment', 'week_day']\n",
        "\n",
        "#change met_ride, demand_met, plan_activated\n",
        "binary_cols = ['met_ride', 'demand_met', 'plan_activated']\n",
        "\n",
        "met_ride = {'yes': 1,'no': 0}\n",
        "demand_met = {'met': 1,'not_met': 0}\n",
        "plan_activated = {'True': 1,'False': 0}\n",
        "\n",
        "df_all['met_ride'] = df_all['met_ride'].apply(lambda x: 1 if x == 'yes' else 0)\n",
        "df_all['demand_met'] = df_all['demand_met'].apply(lambda x: 1 if x == 'met' else 0)\n",
        "df_all['plan_activated'] = df_all['plan_activated'].apply(lambda x: 1 if x == 'True' else 0)\n",
        "\n",
        "#import pandas as pd\n",
        "df_categorical = pd.get_dummies(df_all, columns = categorical_cols, drop_first = True)"
      ],
      "execution_count": 34,
      "outputs": []
    },
    {
      "cell_type": "code",
      "metadata": {
        "id": "cqb1odvY78om"
      },
      "source": [
        "df_sa_h3 = df_main.groupby(['h3','area']).size().reset_index().rename(columns={0:'count'})\n",
        "h3_area_dict = {}\n",
        "for idx,rw in df_sa_h3.iterrows():\n",
        "    h3_area_dict[rw.h3] = rw.area"
      ],
      "execution_count": 35,
      "outputs": []
    },
    {
      "cell_type": "code",
      "metadata": {
        "id": "wiLUZPRG-8dY"
      },
      "source": [
        "numeric_cols = df_categorical.select_dtypes(include='number').columns.to_list()\n",
        "\n",
        "target_col = ['met_ride']\n",
        "\n",
        "ignored_cols = []\n",
        "categorical_cols = df_categorical.select_dtypes(include='object').columns.to_list()\n",
        "categorical_cols = [col for col in categorical_cols if col not in target_col + ignored_cols]"
      ],
      "execution_count": 36,
      "outputs": []
    },
    {
      "cell_type": "code",
      "metadata": {
        "id": "8jm9q-x8FE3U",
        "colab": {
          "base_uri": "https://localhost:8080/"
        },
        "outputId": "b5ba6a88-d517-47c7-9490-18e6c86ba6c7"
      },
      "source": [
        "len(numeric_cols)"
      ],
      "execution_count": 37,
      "outputs": [
        {
          "output_type": "execute_result",
          "data": {
            "text/plain": [
              "39"
            ]
          },
          "metadata": {
            "tags": []
          },
          "execution_count": 37
        }
      ]
    },
    {
      "cell_type": "code",
      "metadata": {
        "colab": {
          "base_uri": "https://localhost:8080/"
        },
        "id": "JrOQ_FSRARe2",
        "outputId": "3660a0b7-4df3-4679-800b-5cfba143de38"
      },
      "source": [
        "\n",
        "\"\"\"\n",
        "for col in categorical_cols:\n",
        "    le = LabelEncoder()\n",
        "    df_categorical[col] = le.fit_transform(df_categorical[col])\n",
        "    le_name_mapping = dict(zip(le.classes_, le.transform(le.classes_)))\n",
        "    print(le_name_mapping) \n",
        "\"\"\"\n",
        "#telcom['Churn'] = telcom['Churn'].map({'Yes' : 1, 'No' : 0})"
      ],
      "execution_count": null,
      "outputs": [
        {
          "output_type": "stream",
          "text": [
            "{'8818596961fffff': 0, '8818596969fffff': 1, '881859696dfffff': 2, '88185ba601fffff': 3, '88185ba609fffff': 4, '88185ba60dfffff': 5, '88185ba641fffff': 6, '88185ba643fffff': 7, '88185ba645fffff': 8, '88185ba647fffff': 9, '88185ba649fffff': 10, '88185ba64bfffff': 11, '88185ba64dfffff': 12, '88185ba655fffff': 13, '88185ba659fffff': 14, '88185ba65dfffff': 15, '88185ba661fffff': 16, '88185ba663fffff': 17, '88185ba669fffff': 18, '88185ba66bfffff': 19, '88185ba66dfffff': 20, '88185bb483fffff': 21, '88185bb487fffff': 22, '88185bb48bfffff': 23, '88185bb49dfffff': 24, '88185bb4a3fffff': 25, '88185bb4a5fffff': 26, '88185bb4a7fffff': 27, '88185bb4abfffff': 28, '88185bb4b1fffff': 29, '88185bb4b3fffff': 30, '88185bb4b5fffff': 31, '88185bb4b7fffff': 32, '88185bb4bdfffff': 33, '88185bb591fffff': 34, '88185bb593fffff': 35, '88185bb597fffff': 36, '88185bb59bfffff': 37, '88185bb5bbfffff': 38, '881e832051fffff': 39, '881e832059fffff': 40, '881e83205bfffff': 41, '881e832203fffff': 42, '881e83220bfffff': 43, '881e832211fffff': 44, '881e832213fffff': 45, '881e832215fffff': 46, '881e832217fffff': 47, '881e832219fffff': 48, '881e83221bfffff': 49, '881e83221dfffff': 50, '881e832231fffff': 51, '881e832233fffff': 52, '881e832237fffff': 53, '881e832239fffff': 54, '881e83223bfffff': 55, '881e83224bfffff': 56, '881e832251fffff': 57, '881e832253fffff': 58, '881e832255fffff': 59, '881e832257fffff': 60, '881e83225dfffff': 61, '881e8322adfffff': 62, '881e8322c1fffff': 63, '881e8322c5fffff': 64, '881e8322c7fffff': 65, '881e8322c9fffff': 66, '881e8322cbfffff': 67, '881e8322cdfffff': 68, '881e8322e1fffff': 69, '881e8322e3fffff': 70, '881e8322e5fffff': 71, '881e8322e9fffff': 72, '881e8322ebfffff': 73, '881e8322edfffff': 74, '881e832823fffff': 75, '881e832835fffff': 76, '881e832837fffff': 77, '881e8328e1fffff': 78, '881e8328e5fffff': 79, '881e8328e7fffff': 80, '881e832913fffff': 81, '881e832915fffff': 82, '881e832917fffff': 83, '881e832923fffff': 84, '881e832931fffff': 85, '881e832933fffff': 86, '881e832935fffff': 87, '881e832937fffff': 88, '881e832939fffff': 89, '881e83293bfffff': 90, '881e83293dfffff': 91, '881e832989fffff': 92, '881e83298bfffff': 93, '881e8329c1fffff': 94, '881e8329c3fffff': 95, '881e8329c5fffff': 96, '881e8329c7fffff': 97, '881e8329c9fffff': 98, '881e8329cbfffff': 99, '881e8329cdfffff': 100, '881e8329d1fffff': 101, '881e8329d3fffff': 102, '881e8329d5fffff': 103, '881e8329d9fffff': 104, '881e8329dbfffff': 105, '881e8329ddfffff': 106, '881e8329e1fffff': 107, '881e8329e9fffff': 108, '881e8329ebfffff': 109, '881e8329edfffff': 110, '881e8330b7fffff': 111, '881e833525fffff': 112, '881e833527fffff': 113, '881e8b3449fffff': 114, '881e8b3601fffff': 115, '881e8b3605fffff': 116, '881e8b3607fffff': 117, '881e8b360dfffff': 118, '881e8b3621fffff': 119, '881e8b3623fffff': 120, '881e8b3625fffff': 121, '881e8b3627fffff': 122, '881e8b3629fffff': 123, '881e8b362bfffff': 124, '881e8b362dfffff': 125, '881e8b3635fffff': 126, '881e8b3639fffff': 127, '881e8b363dfffff': 128, '881e8b3661fffff': 129, '881e8b3663fffff': 130, '881e8b3665fffff': 131, '881e8b3667fffff': 132, '881e8b366bfffff': 133, '881e8b370bfffff': 134, '881e8b3711fffff': 135, '881e8b3713fffff': 136, '881e8b3715fffff': 137, '881e8b3719fffff': 138, '881e8b371bfffff': 139, '881e8b371dfffff': 140, '881e8b3751fffff': 141, '881e8b3753fffff': 142, '881e8b3755fffff': 143, '881e8b3757fffff': 144, '881e8b3759fffff': 145, '881e8b375bfffff': 146, '881e8b375dfffff': 147, '881e8badb7fffff': 148, '881ea20101fffff': 149, '881ea20103fffff': 150, '881ea20105fffff': 151, '881ea20107fffff': 152, '881ea2010dfffff': 153, '881ea20115fffff': 154, '881ea2011dfffff': 155, '881ea20121fffff': 156, '881ea20123fffff': 157, '881ea20127fffff': 158, '881ea20129fffff': 159, '881ea2012bfffff': 160, '881ea2012dfffff': 161, '881ea20131fffff': 162, '881ea20135fffff': 163, '881ea20137fffff': 164, '881ea20139fffff': 165, '881ea2013dfffff': 166, '881ea20141fffff': 167, '881ea20145fffff': 168, '881ea20161fffff': 169, '881ea20163fffff': 170, '881ea20165fffff': 171, '881ea20167fffff': 172, '881ea20169fffff': 173, '881ea2016bfffff': 174, '881ea201e1fffff': 175, '881ea201e5fffff': 176, '881ea201edfffff': 177, '881ea20a4bfffff': 178, '881ea20a51fffff': 179, '881ea20a53fffff': 180, '881ea20a55fffff': 181, '881ea20a5dfffff': 182, '881ea20ad1fffff': 183, '881ea20ad9fffff': 184, '881ea20adbfffff': 185, '881ea21897fffff': 186, '881ea218b9fffff': 187, '881f991401fffff': 188, '881f991403fffff': 189, '881f991405fffff': 190, '881f991407fffff': 191, '881f991409fffff': 192, '881f99140bfffff': 193, '881f99140dfffff': 194, '881f991415fffff': 195, '881f99141dfffff': 196, '881f991429fffff': 197, '881f99142dfffff': 198, '881f991441fffff': 199, '881f991443fffff': 200, '881f991445fffff': 201, '881f991447fffff': 202, '881f991449fffff': 203, '881f99144bfffff': 204, '881f99144dfffff': 205, '881f991455fffff': 206, '881f991459fffff': 207, '881f99145dfffff': 208, '881f991461fffff': 209, '881f991463fffff': 210, '881f991465fffff': 211, '881f991467fffff': 212, '881f991469fffff': 213, '881f99146bfffff': 214, '881f99146dfffff': 215, '881f99154bfffff': 216, '881f991559fffff': 217, '881f99155bfffff': 218, '881f99155dfffff': 219, '881f991621fffff': 220, '881f991623fffff': 221, '881f991625fffff': 222, '881f991627fffff': 223, '881f991635fffff': 224, '881f991637fffff': 225, '881f991703fffff': 226, '881f991707fffff': 227, '881f991711fffff': 228, '881f991713fffff': 229, '881f991715fffff': 230, '881f991717fffff': 231, '881f99171bfffff': 232, '881f99171dfffff': 233, '881f991731fffff': 234, '881f991733fffff': 235, '881f991737fffff': 236, '881f991739fffff': 237, '881f99173bfffff': 238, '8839444db3fffff': 239, '8839446001fffff': 240, '8839446003fffff': 241, '8839446005fffff': 242, '8839446007fffff': 243, '8839446009fffff': 244, '883944600bfffff': 245, '883944600dfffff': 246, '8839446011fffff': 247, '8839446013fffff': 248, '8839446015fffff': 249, '8839446017fffff': 250, '8839446019fffff': 251, '883944601bfffff': 252, '883944601dfffff': 253, '8839446021fffff': 254, '8839446023fffff': 255, '8839446025fffff': 256, '8839446027fffff': 257, '8839446029fffff': 258, '883944602bfffff': 259, '883944602dfffff': 260, '8839446031fffff': 261, '8839446033fffff': 262, '8839446035fffff': 263, '8839446037fffff': 264, '8839446039fffff': 265, '883944603bfffff': 266, '883944603dfffff': 267, '8839446047fffff': 268, '8839446051fffff': 269, '8839446053fffff': 270, '8839446055fffff': 271, '8839446057fffff': 272, '8839446059fffff': 273, '883944605bfffff': 274, '8839446063fffff': 275, '8839446065fffff': 276, '8839446067fffff': 277, '883944606bfffff': 278, '8839446081fffff': 279, '8839446085fffff': 280, '8839446089fffff': 281, '883944608bfffff': 282, '883944608dfffff': 283, '88394460a5fffff': 284, '88394460a9fffff': 285, '88394460adfffff': 286, '88394460c1fffff': 287, '88394460c3fffff': 288, '88394460c5fffff': 289, '88394460c7fffff': 290, '88394460c9fffff': 291, '88394460cbfffff': 292, '88394460cdfffff': 293, '88394460d1fffff': 294, '88394460d5fffff': 295, '88394460d7fffff': 296, '88394460d9fffff': 297, '88394460ddfffff': 298, '88394460e1fffff': 299, '88394460e3fffff': 300, '88394460e5fffff': 301, '88394460e7fffff': 302, '88394460e9fffff': 303, '88394460ebfffff': 304, '88394460edfffff': 305, '883944615bfffff': 306, '883944618dfffff': 307, '88394461a9fffff': 308, '88394461adfffff': 309, '88394461c1fffff': 310, '88394461c3fffff': 311, '88394461c5fffff': 312, '88394461c7fffff': 313, '88394461c9fffff': 314, '88394461cbfffff': 315, '88394461cdfffff': 316, '88394461d1fffff': 317, '88394461d3fffff': 318, '88394461d7fffff': 319, '88394461d9fffff': 320, '88394461dbfffff': 321, '88394461ddfffff': 322, '88394461e1fffff': 323, '88394461e3fffff': 324, '88394461e5fffff': 325, '88394461e7fffff': 326, '88394461e9fffff': 327, '88394461ebfffff': 328, '8839446283fffff': 329, '8839446285fffff': 330, '8839446287fffff': 331, '88394462a1fffff': 332, '88394462a3fffff': 333, '88394462a5fffff': 334, '88394462a7fffff': 335, '88394462a9fffff': 336, '88394462abfffff': 337, '88394462adfffff': 338, '88394462b1fffff': 339, '88394462b3fffff': 340, '88394462b5fffff': 341, '88394462b7fffff': 342, '88394462b9fffff': 343, '88394462bbfffff': 344, '88394462bdfffff': 345, '88394462e5fffff': 346, '88394462e7fffff': 347, '8839446ad1fffff': 348, '8839446ad3fffff': 349, '8839446ad9fffff': 350, '8839446adbfffff': 351, '8839447059fffff': 352, '883944705bfffff': 353, '8839447201fffff': 354, '8839447203fffff': 355, '8839447207fffff': 356, '883944720bfffff': 357, '8839447211fffff': 358, '8839447213fffff': 359, '8839447215fffff': 360, '8839447217fffff': 361, '8839447219fffff': 362, '883944721bfffff': 363, '883944721dfffff': 364, '883944722bfffff': 365, '8839447231fffff': 366, '8839447233fffff': 367, '8839447235fffff': 368, '8839447237fffff': 369, '8839447239fffff': 370, '883944723bfffff': 371, '883944723dfffff': 372, '88394472c5fffff': 373, '88394472c7fffff': 374, '88394472cdfffff': 375, '88394472e1fffff': 376, '88394472e3fffff': 377, '88394472e5fffff': 378, '88394472e7fffff': 379, '88394472e9fffff': 380, '88394472ebfffff': 381, '88394472edfffff': 382, '8839468005fffff': 383, '8839468007fffff': 384, '8839468029fffff': 385, '883946802bfffff': 386, '883946802dfffff': 387, '8839468045fffff': 388, '8839468061fffff': 389, '8839468063fffff': 390, '8839468065fffff': 391, '8839468067fffff': 392, '8839468069fffff': 393, '883946806dfffff': 394, '883946814dfffff': 395, '8839468151fffff': 396, '8839468153fffff': 397, '8839468159fffff': 398, '883946815bfffff': 399, '8839468307fffff': 400, '8839468313fffff': 401, '8839468317fffff': 402, '8839468321fffff': 403, '8839468323fffff': 404, '8839468327fffff': 405, '8839468329fffff': 406, '883946832bfffff': 407, '883946832dfffff': 408, '8839468331fffff': 409, '8839468333fffff': 410, '8839468335fffff': 411, '8839468337fffff': 412, '8839468339fffff': 413, '883946833bfffff': 414, '883946833dfffff': 415, '883946989bfffff': 416, '883946b00bfffff': 417, '883946b051fffff': 418, '883946b053fffff': 419, '883946b055fffff': 420, '883946b057fffff': 421, '883946b297fffff': 422, '883946b2a1fffff': 423, '883946b2a3fffff': 424, '883946b2adfffff': 425, '883946b2b1fffff': 426, '883946b2b5fffff': 427, '883946b2bdfffff': 428, '883946b2e3fffff': 429, '883946b2e5fffff': 430, '883946b701fffff': 431, '883946b703fffff': 432, '883946b705fffff': 433, '883946b70bfffff': 434, '883946b70dfffff': 435, '883946b711fffff': 436, '883946b713fffff': 437, '883946b71bfffff': 438, '883946b71dfffff': 439, '883946b749fffff': 440, '883946b767fffff': 441, '883946b769fffff': 442, '8839701201fffff': 443, '8839701203fffff': 444, '8839701205fffff': 445, '8839701207fffff': 446, '8839701209fffff': 447, '883970120bfffff': 448, '883970120dfffff': 449, '8839701211fffff': 450, '8839701213fffff': 451, '8839701215fffff': 452, '8839701217fffff': 453, '8839701219fffff': 454, '883970121bfffff': 455, '883970121dfffff': 456, '8839701229fffff': 457, '883970122bfffff': 458, '8839701231fffff': 459, '8839701239fffff': 460, '883970123bfffff': 461, '883970123dfffff': 462, '8839701241fffff': 463, '8839701243fffff': 464, '8839701245fffff': 465, '8839701247fffff': 466, '8839701249fffff': 467, '883970124bfffff': 468, '883970124dfffff': 469, '8839701251fffff': 470, '8839701253fffff': 471, '8839701255fffff': 472, '8839701257fffff': 473, '8839701259fffff': 474, '883970125bfffff': 475, '883970125dfffff': 476, '8839701261fffff': 477, '8839701263fffff': 478, '8839701269fffff': 479, '883970126bfffff': 480, '883970126dfffff': 481, '88397012cdfffff': 482, '8839708887fffff': 483, '8839708891fffff': 484, '8839708893fffff': 485, '8839708895fffff': 486, '8839708897fffff': 487, '883970889bfffff': 488, '88397088a1fffff': 489, '88397088a3fffff': 490, '88397088a7fffff': 491, '88397088a9fffff': 492, '88397088abfffff': 493, '88397088adfffff': 494, '88397088b1fffff': 495, '88397088b3fffff': 496, '88397088b5fffff': 497, '88397088b7fffff': 498, '88397088b9fffff': 499, '88397088bbfffff': 500, '88397088bdfffff': 501, '8839708983fffff': 502, '8839708987fffff': 503, '8839708991fffff': 504, '8839708993fffff': 505, '8839708995fffff': 506, '8839708997fffff': 507, '8839708999fffff': 508, '883970899bfffff': 509, '883970899dfffff': 510, '88397089b9fffff': 511, '88397089bbfffff': 512, '8839708d01fffff': 513, '8839708d03fffff': 514, '8839708d05fffff': 515, '8839708d07fffff': 516, '8839708d09fffff': 517, '8839708d0bfffff': 518, '8839708d0dfffff': 519, '8839708d11fffff': 520, '8839708d13fffff': 521, '8839708d15fffff': 522, '8839708d17fffff': 523, '8839708d19fffff': 524, '8839708d1dfffff': 525, '8839708d21fffff': 526, '8839708d23fffff': 527, '8839708d25fffff': 528, '8839708d27fffff': 529, '8839708d29fffff': 530, '8839708d2bfffff': 531, '8839708d2dfffff': 532, '8839708d39fffff': 533, '8839708d3dfffff': 534, '8839708d41fffff': 535, '8839708d43fffff': 536, '8839708d45fffff': 537, '8839708d47fffff': 538, '8839708d49fffff': 539, '8839708d4bfffff': 540, '8839708d4dfffff': 541, '8839708d55fffff': 542, '8839708d57fffff': 543, '8839708d61fffff': 544, '8839708d63fffff': 545, '8839708d65fffff': 546, '8839708d67fffff': 547, '8839708d69fffff': 548, '8839708d6bfffff': 549, '8839708d6dfffff': 550, '8839708f25fffff': 551, '8839708f27fffff': 552}\n",
            "{'Fri': 0, 'Mon': 1, 'Sat': 2, 'Sun': 3, 'Thu': 4, 'Tue': 5, 'Wed': 6}\n"
          ],
          "name": "stdout"
        }
      ]
    },
    {
      "cell_type": "code",
      "metadata": {
        "id": "iHed5eprA145"
      },
      "source": [
        "#Impute missing values\n",
        "\"\"\"\n",
        "from sklearn.impute import SimpleImputer\n",
        "\n",
        "imp = SimpleImputer(missing_values=np.NaN, strategy=\"mean\")\n",
        "df_categorical[\"avg_ride_distance\"] = imp.fit_transform(df_categorical[[\"avg_ride_distance\"]]).ravel()\n",
        "\"\"\"\n",
        "df_categorical[\"avg_ride_distance\"].fillna((df_categorical[\"avg_ride_distance\"].mean()), inplace=True)"
      ],
      "execution_count": 38,
      "outputs": []
    },
    {
      "cell_type": "code",
      "metadata": {
        "id": "_ea60OKfCWVH"
      },
      "source": [
        "scaler = StandardScaler()\n",
        "df_categorical[['credit', 'promotion','avg_ride_distance']] = scaler.fit_transform(df_categorical[['credit', 'promotion','avg_ride_distance']])"
      ],
      "execution_count": 39,
      "outputs": []
    },
    {
      "cell_type": "code",
      "metadata": {
        "colab": {
          "base_uri": "https://localhost:8080/",
          "height": 251
        },
        "id": "rNa6vb-dsdlO",
        "outputId": "dc1571c0-28eb-41e3-98ee-60697eef73f2"
      },
      "source": [
        "#df_categorical.isna().sum()\n",
        "df_categorical.head()"
      ],
      "execution_count": 40,
      "outputs": [
        {
          "output_type": "execute_result",
          "data": {
            "text/html": [
              "<div>\n",
              "<style scoped>\n",
              "    .dataframe tbody tr th:only-of-type {\n",
              "        vertical-align: middle;\n",
              "    }\n",
              "\n",
              "    .dataframe tbody tr th {\n",
              "        vertical-align: top;\n",
              "    }\n",
              "\n",
              "    .dataframe thead th {\n",
              "        text-align: right;\n",
              "    }\n",
              "</style>\n",
              "<table border=\"1\" class=\"dataframe\">\n",
              "  <thead>\n",
              "    <tr style=\"text-align: right;\">\n",
              "      <th></th>\n",
              "      <th>met_ride</th>\n",
              "      <th>h3</th>\n",
              "      <th>hour</th>\n",
              "      <th>week_day</th>\n",
              "      <th>demand_met</th>\n",
              "      <th>credit</th>\n",
              "      <th>promotion</th>\n",
              "      <th>plan_activated</th>\n",
              "      <th>total_rides_before_mv</th>\n",
              "      <th>avg_ride_distance</th>\n",
              "      <th>diff_last_ride</th>\n",
              "      <th>payment_times</th>\n",
              "      <th>total_payment_amount</th>\n",
              "      <th>diff_mv_ts_day</th>\n",
              "      <th>historic_conversion</th>\n",
              "      <th>latest_kick_scooter_rides</th>\n",
              "      <th>latest_motorcycle_rides</th>\n",
              "      <th>latest_bicycle_rides</th>\n",
              "      <th>rides_last_30_days</th>\n",
              "      <th>kick_scooter_nearby</th>\n",
              "      <th>bici_nearby</th>\n",
              "      <th>segment_loyal</th>\n",
              "      <th>segment_mid</th>\n",
              "      <th>segment_new</th>\n",
              "      <th>segment_new heavy</th>\n",
              "      <th>segment_non-active</th>\n",
              "      <th>segment_occasional</th>\n",
              "      <th>segment_resurect</th>\n",
              "      <th>segment_risk</th>\n",
              "      <th>area_Bergamo</th>\n",
              "      <th>area_Caserta</th>\n",
              "      <th>area_Florencia</th>\n",
              "      <th>area_Gijón</th>\n",
              "      <th>area_Lecce</th>\n",
              "      <th>area_Napoles</th>\n",
              "      <th>area_No Service Area</th>\n",
              "      <th>area_Sitges</th>\n",
              "      <th>area_Tarragona</th>\n",
              "      <th>area_Terrassa</th>\n",
              "      <th>area_ZFranca</th>\n",
              "      <th>area_Zaragoza</th>\n",
              "    </tr>\n",
              "  </thead>\n",
              "  <tbody>\n",
              "    <tr>\n",
              "      <th>0</th>\n",
              "      <td>0</td>\n",
              "      <td>8839446015fffff</td>\n",
              "      <td>16</td>\n",
              "      <td>Thu</td>\n",
              "      <td>0</td>\n",
              "      <td>0.459354</td>\n",
              "      <td>-0.039651</td>\n",
              "      <td>0</td>\n",
              "      <td>79</td>\n",
              "      <td>0.980977</td>\n",
              "      <td>3.0</td>\n",
              "      <td>7</td>\n",
              "      <td>91.76</td>\n",
              "      <td>3.0</td>\n",
              "      <td>0.451977</td>\n",
              "      <td>0</td>\n",
              "      <td>10</td>\n",
              "      <td>0</td>\n",
              "      <td>48</td>\n",
              "      <td>0</td>\n",
              "      <td>0</td>\n",
              "      <td>0</td>\n",
              "      <td>0</td>\n",
              "      <td>0</td>\n",
              "      <td>0</td>\n",
              "      <td>0</td>\n",
              "      <td>0</td>\n",
              "      <td>0</td>\n",
              "      <td>1</td>\n",
              "      <td>0</td>\n",
              "      <td>0</td>\n",
              "      <td>0</td>\n",
              "      <td>0</td>\n",
              "      <td>0</td>\n",
              "      <td>0</td>\n",
              "      <td>0</td>\n",
              "      <td>0</td>\n",
              "      <td>0</td>\n",
              "      <td>0</td>\n",
              "      <td>0</td>\n",
              "      <td>0</td>\n",
              "    </tr>\n",
              "    <tr>\n",
              "      <th>1</th>\n",
              "      <td>1</td>\n",
              "      <td>8839446033fffff</td>\n",
              "      <td>19</td>\n",
              "      <td>Thu</td>\n",
              "      <td>0</td>\n",
              "      <td>-0.276006</td>\n",
              "      <td>0.023396</td>\n",
              "      <td>0</td>\n",
              "      <td>6</td>\n",
              "      <td>0.694652</td>\n",
              "      <td>6.0</td>\n",
              "      <td>0</td>\n",
              "      <td>0.00</td>\n",
              "      <td>0.0</td>\n",
              "      <td>0.500000</td>\n",
              "      <td>0</td>\n",
              "      <td>6</td>\n",
              "      <td>0</td>\n",
              "      <td>6</td>\n",
              "      <td>0</td>\n",
              "      <td>0</td>\n",
              "      <td>0</td>\n",
              "      <td>0</td>\n",
              "      <td>0</td>\n",
              "      <td>1</td>\n",
              "      <td>0</td>\n",
              "      <td>0</td>\n",
              "      <td>0</td>\n",
              "      <td>0</td>\n",
              "      <td>0</td>\n",
              "      <td>0</td>\n",
              "      <td>0</td>\n",
              "      <td>0</td>\n",
              "      <td>0</td>\n",
              "      <td>0</td>\n",
              "      <td>0</td>\n",
              "      <td>0</td>\n",
              "      <td>0</td>\n",
              "      <td>0</td>\n",
              "      <td>0</td>\n",
              "      <td>0</td>\n",
              "    </tr>\n",
              "    <tr>\n",
              "      <th>2</th>\n",
              "      <td>1</td>\n",
              "      <td>88394460c7fffff</td>\n",
              "      <td>19</td>\n",
              "      <td>Thu</td>\n",
              "      <td>0</td>\n",
              "      <td>-0.276006</td>\n",
              "      <td>0.023396</td>\n",
              "      <td>0</td>\n",
              "      <td>6</td>\n",
              "      <td>0.694652</td>\n",
              "      <td>6.0</td>\n",
              "      <td>0</td>\n",
              "      <td>0.00</td>\n",
              "      <td>6.0</td>\n",
              "      <td>0.444444</td>\n",
              "      <td>0</td>\n",
              "      <td>6</td>\n",
              "      <td>0</td>\n",
              "      <td>6</td>\n",
              "      <td>0</td>\n",
              "      <td>0</td>\n",
              "      <td>0</td>\n",
              "      <td>0</td>\n",
              "      <td>0</td>\n",
              "      <td>1</td>\n",
              "      <td>0</td>\n",
              "      <td>0</td>\n",
              "      <td>0</td>\n",
              "      <td>0</td>\n",
              "      <td>0</td>\n",
              "      <td>0</td>\n",
              "      <td>0</td>\n",
              "      <td>0</td>\n",
              "      <td>0</td>\n",
              "      <td>0</td>\n",
              "      <td>0</td>\n",
              "      <td>0</td>\n",
              "      <td>0</td>\n",
              "      <td>0</td>\n",
              "      <td>0</td>\n",
              "      <td>0</td>\n",
              "    </tr>\n",
              "    <tr>\n",
              "      <th>3</th>\n",
              "      <td>0</td>\n",
              "      <td>8839446013fffff</td>\n",
              "      <td>17</td>\n",
              "      <td>Tue</td>\n",
              "      <td>1</td>\n",
              "      <td>-0.276006</td>\n",
              "      <td>-0.023924</td>\n",
              "      <td>0</td>\n",
              "      <td>7</td>\n",
              "      <td>0.926307</td>\n",
              "      <td>0.0</td>\n",
              "      <td>0</td>\n",
              "      <td>0.00</td>\n",
              "      <td>0.0</td>\n",
              "      <td>0.294118</td>\n",
              "      <td>0</td>\n",
              "      <td>7</td>\n",
              "      <td>0</td>\n",
              "      <td>7</td>\n",
              "      <td>0</td>\n",
              "      <td>0</td>\n",
              "      <td>0</td>\n",
              "      <td>1</td>\n",
              "      <td>0</td>\n",
              "      <td>0</td>\n",
              "      <td>0</td>\n",
              "      <td>0</td>\n",
              "      <td>0</td>\n",
              "      <td>0</td>\n",
              "      <td>0</td>\n",
              "      <td>0</td>\n",
              "      <td>0</td>\n",
              "      <td>0</td>\n",
              "      <td>0</td>\n",
              "      <td>0</td>\n",
              "      <td>0</td>\n",
              "      <td>0</td>\n",
              "      <td>0</td>\n",
              "      <td>0</td>\n",
              "      <td>0</td>\n",
              "      <td>0</td>\n",
              "    </tr>\n",
              "    <tr>\n",
              "      <th>4</th>\n",
              "      <td>1</td>\n",
              "      <td>8839446013fffff</td>\n",
              "      <td>8</td>\n",
              "      <td>Tue</td>\n",
              "      <td>1</td>\n",
              "      <td>-0.276006</td>\n",
              "      <td>-0.001447</td>\n",
              "      <td>0</td>\n",
              "      <td>6</td>\n",
              "      <td>0.861614</td>\n",
              "      <td>1.0</td>\n",
              "      <td>0</td>\n",
              "      <td>0.00</td>\n",
              "      <td>0.0</td>\n",
              "      <td>0.258065</td>\n",
              "      <td>0</td>\n",
              "      <td>6</td>\n",
              "      <td>0</td>\n",
              "      <td>6</td>\n",
              "      <td>0</td>\n",
              "      <td>0</td>\n",
              "      <td>0</td>\n",
              "      <td>1</td>\n",
              "      <td>0</td>\n",
              "      <td>0</td>\n",
              "      <td>0</td>\n",
              "      <td>0</td>\n",
              "      <td>0</td>\n",
              "      <td>0</td>\n",
              "      <td>0</td>\n",
              "      <td>0</td>\n",
              "      <td>0</td>\n",
              "      <td>0</td>\n",
              "      <td>0</td>\n",
              "      <td>0</td>\n",
              "      <td>0</td>\n",
              "      <td>0</td>\n",
              "      <td>0</td>\n",
              "      <td>0</td>\n",
              "      <td>0</td>\n",
              "      <td>0</td>\n",
              "    </tr>\n",
              "  </tbody>\n",
              "</table>\n",
              "</div>"
            ],
            "text/plain": [
              "   met_ride               h3  hour  ... area_Terrassa  area_ZFranca  area_Zaragoza\n",
              "0         0  8839446015fffff    16  ...             0             0              0\n",
              "1         1  8839446033fffff    19  ...             0             0              0\n",
              "2         1  88394460c7fffff    19  ...             0             0              0\n",
              "3         0  8839446013fffff    17  ...             0             0              0\n",
              "4         1  8839446013fffff     8  ...             0             0              0\n",
              "\n",
              "[5 rows x 41 columns]"
            ]
          },
          "metadata": {
            "tags": []
          },
          "execution_count": 40
        }
      ]
    },
    {
      "cell_type": "code",
      "metadata": {
        "id": "vQGDiosqFhzu",
        "colab": {
          "base_uri": "https://localhost:8080/"
        },
        "outputId": "f9c899c8-ea72-4931-9013-8925f32f0913"
      },
      "source": [
        "X = df_categorical.drop(columns={'met_ride'})\n",
        "y = df_categorical['met_ride']\n",
        "\n",
        "X_train, X_test, y_train, y_test = train_test_split(X, y, test_size=0.33, random_state=42)\n",
        "print(X_train.shape)\n",
        "print(X_test.shape)"
      ],
      "execution_count": 41,
      "outputs": [
        {
          "output_type": "stream",
          "text": [
            "(408061, 40)\n",
            "(200986, 40)\n"
          ],
          "name": "stdout"
        }
      ]
    },
    {
      "cell_type": "code",
      "metadata": {
        "colab": {
          "base_uri": "https://localhost:8080/"
        },
        "id": "N6gMgTOCDS9A",
        "outputId": "1a4b212c-4777-401b-a220-cc31adaa28a6"
      },
      "source": [
        "y_train.unique()"
      ],
      "execution_count": null,
      "outputs": [
        {
          "output_type": "execute_result",
          "data": {
            "text/plain": [
              "array([1, 0])"
            ]
          },
          "metadata": {
            "tags": []
          },
          "execution_count": 30
        }
      ]
    },
    {
      "cell_type": "code",
      "metadata": {
        "colab": {
          "base_uri": "https://localhost:8080/"
        },
        "id": "Z2WKrU7ytGEE",
        "outputId": "394ac0b9-4ae3-4c1c-b6fe-2f7d148f34bc"
      },
      "source": [
        "#def preproc(X_train, X_val):\n",
        "embed_cols=[i for i in categorical_cols]\n",
        "dict_name = {}\n",
        "for i in embed_cols:\n",
        "    print(i,df_categorical[i].nunique())\n",
        "\n",
        "input_list_train = []\n",
        "input_list_val = []\n",
        "#input_list_test = []\n",
        "\n",
        "#the cols to be embedded: rescaling to range [0, # values)\n",
        "for c in categorical_cols:\n",
        "    print(c)\n",
        "    raw_vals = np.unique(X_train[c])\n",
        "    val_map = {}\n",
        "    for i in range(len(raw_vals)):\n",
        "        val_map[raw_vals[i]] = i       \n",
        "    input_list_train.append(X_train[c].map(val_map).values)\n",
        "    input_list_val.append(X_test[c].map(val_map).fillna(0).values)\n",
        "    #input_list_test.append(X_test[c].map(val_map).fillna(0).values)\n",
        "    dict_name[c] = val_map\n",
        "#the rest of the columns\n",
        "other_cols = [c for c in X_train.columns if (not c in embed_cols)]\n",
        "input_list_train.append(X_train[other_cols].values)\n",
        "input_list_val.append(X_test[other_cols].values)\n",
        "#input_list_test.append(X_test[other_cols].values)\n",
        "\n",
        "input_list_train, input_list_val#, input_list_test"
      ],
      "execution_count": 42,
      "outputs": [
        {
          "output_type": "stream",
          "text": [
            "h3 553\n",
            "week_day 7\n",
            "h3\n",
            "week_day\n"
          ],
          "name": "stdout"
        },
        {
          "output_type": "execute_result",
          "data": {
            "text/plain": [
              "([array([ 94, 484, 441, ..., 216, 273, 290]),\n",
              "  array([0, 3, 6, ..., 4, 6, 0]),\n",
              "  array([[23.        ,  0.        , -0.27600577, ...,  0.        ,\n",
              "           0.        ,  0.        ],\n",
              "         [19.        ,  0.        ,  0.08843484, ...,  0.        ,\n",
              "           0.        ,  1.        ],\n",
              "         [20.        ,  0.        , -0.30232648, ...,  0.        ,\n",
              "           0.        ,  1.        ],\n",
              "         ...,\n",
              "         [17.        ,  1.        , -0.27600577, ...,  0.        ,\n",
              "           0.        ,  0.        ],\n",
              "         [ 9.        ,  1.        , -0.27600577, ...,  0.        ,\n",
              "           0.        ,  0.        ],\n",
              "         [17.        ,  0.        , -0.20514232, ...,  0.        ,\n",
              "           0.        ,  0.        ]])],\n",
              " [array([516.,  96., 348., ..., 253., 505., 250.]),\n",
              "  array([4, 6, 3, ..., 6, 2, 6]),\n",
              "  array([[20.        ,  1.        ,  0.02769473, ...,  0.        ,\n",
              "           0.        ,  1.        ],\n",
              "         [ 7.        ,  1.        ,  0.08033615, ...,  0.        ,\n",
              "           0.        ,  0.        ],\n",
              "         [17.        ,  1.        ,  0.30304986, ...,  1.        ,\n",
              "           0.        ,  0.        ],\n",
              "         ...,\n",
              "         [ 7.        ,  1.        ,  0.33746925, ...,  0.        ,\n",
              "           0.        ,  0.        ],\n",
              "         [23.        ,  1.        ,  0.05199077, ...,  0.        ,\n",
              "           0.        ,  1.        ],\n",
              "         [16.        ,  1.        , -0.27600577, ...,  0.        ,\n",
              "           0.        ,  0.        ]])])"
            ]
          },
          "metadata": {
            "tags": []
          },
          "execution_count": 42
        }
      ]
    },
    {
      "cell_type": "code",
      "metadata": {
        "colab": {
          "base_uri": "https://localhost:8080/"
        },
        "id": "nyRn-w6o-XdA",
        "outputId": "ee7b7079-0b09-4a23-8264-dd0a1e37a498"
      },
      "source": [
        "len(input_list_train[1])"
      ],
      "execution_count": 43,
      "outputs": [
        {
          "output_type": "execute_result",
          "data": {
            "text/plain": [
              "408061"
            ]
          },
          "metadata": {
            "tags": []
          },
          "execution_count": 43
        }
      ]
    },
    {
      "cell_type": "code",
      "metadata": {
        "id": "K6hZ0UFzRBOt"
      },
      "source": [
        "a = dict(dict_name['h3'])\n",
        "list_=[]\n",
        "\n",
        "for k,v in a.items():\n",
        "    combo = [k,h3_area_dict[k]]\n",
        "    list_.append(combo)"
      ],
      "execution_count": 44,
      "outputs": []
    },
    {
      "cell_type": "code",
      "metadata": {
        "colab": {
          "base_uri": "https://localhost:8080/"
        },
        "id": "PFfU55Ai-KFJ",
        "outputId": "e18d48da-98fb-4e56-f0c7-3440dd42455b"
      },
      "source": [
        "list_[:3]"
      ],
      "execution_count": 45,
      "outputs": [
        {
          "output_type": "execute_result",
          "data": {
            "text/plain": [
              "[['8818596961fffff', 'Gijón'],\n",
              " ['8818596969fffff', 'Gijón'],\n",
              " ['881859696dfffff', 'Gijón']]"
            ]
          },
          "metadata": {
            "tags": []
          },
          "execution_count": 45
        }
      ]
    },
    {
      "cell_type": "code",
      "metadata": {
        "colab": {
          "base_uri": "https://localhost:8080/"
        },
        "id": "7ZRZ__fsuIrZ",
        "outputId": "14334fcb-cdc1-4a60-ccff-1aaadbed3048"
      },
      "source": [
        "for categorical_var in X_train.select_dtypes(include=['object']):\n",
        "    \n",
        "    cat_emb_name= categorical_var.replace(\" \", \"\")+'_Embedding'\n",
        "  \n",
        "    no_of_unique_cat  = X_train[categorical_var].nunique()\n",
        "    embedding_size = int(min(np.ceil((no_of_unique_cat)/2), 50 ))\n",
        "  \n",
        "    print('Categorica Variable:', categorical_var,\n",
        "        'Unique Categories:', no_of_unique_cat,\n",
        "        'Embedding Size:', embedding_size)"
      ],
      "execution_count": null,
      "outputs": [
        {
          "output_type": "stream",
          "text": [
            "Categorica Variable: h3 Unique Categories: 539 Embedding Size: 50\n",
            "Categorica Variable: week_day Unique Categories: 7 Embedding Size: 4\n"
          ],
          "name": "stdout"
        }
      ]
    },
    {
      "cell_type": "code",
      "metadata": {
        "id": "9VjnX-5YDAKt",
        "colab": {
          "base_uri": "https://localhost:8080/"
        },
        "outputId": "cd058e36-c2a4-4d59-e725-942c2eeda4ae"
      },
      "source": [
        "for categorical_var in X_train.select_dtypes(include=['object']):\n",
        "    \n",
        "    input_name= 'Input_' + categorical_var.replace(\" \", \"\")\n",
        "    print(input_name)"
      ],
      "execution_count": null,
      "outputs": [
        {
          "output_type": "stream",
          "text": [
            "Input_h3\n",
            "Input_week_day\n"
          ],
          "name": "stdout"
        }
      ]
    },
    {
      "cell_type": "code",
      "metadata": {
        "id": "nQO0bf5KDhVI",
        "colab": {
          "base_uri": "https://localhost:8080/"
        },
        "outputId": "976a7115-0233-405a-df9e-36c8dd843241"
      },
      "source": [
        "input_models=[]\n",
        "output_embeddings=[]\n",
        "numerics = ['int16', 'int32', 'int64', 'float16', 'float32', 'float64']\n",
        "\n",
        "for categorical_var in X_train.select_dtypes(include=['object']):\n",
        "    \n",
        "    #Name of the categorical variable that will be used in the Keras Embedding layer\n",
        "    cat_emb_name= categorical_var.replace(\" \", \"\")+'_Embedding'\n",
        "    print(cat_emb_name)\n",
        "    # Define the embedding_size\n",
        "    no_of_unique_cat  = X_train[categorical_var].nunique()\n",
        "    embedding_size = int(min(np.ceil((no_of_unique_cat)/2), 50 ))\n",
        "  \n",
        "    #One Embedding Layer for each categorical variable\n",
        "    input_model = Input(shape=(1,))\n",
        "    output_model = Embedding(no_of_unique_cat, embedding_size, name=cat_emb_name)(input_model)\n",
        "    output_model = Reshape(target_shape=(embedding_size,))(output_model)    \n",
        "  \n",
        "    #Appending all the categorical inputs\n",
        "    input_models.append(input_model)\n",
        "  \n",
        "    #Appending all the embeddings\n",
        "    output_embeddings.append(output_model)\n",
        "  \n",
        "#Other non-categorical data columns (numerical). \n",
        "#I define single another network for the other columns and add them to our models list.\n",
        "input_numeric = Input(shape=(len(X_train.select_dtypes(include=['number']).columns.tolist()),))\n",
        "#input_numeric = Input(shape=(38,))\n",
        "print(len(X_train.select_dtypes(include=['number']).columns.tolist()))\n",
        "#embedding_numeric = Dense(128)(input_numeric) \n",
        "input_models.append(input_numeric)\n",
        "output_embeddings.append(input_numeric)\n",
        "\n",
        "#At the end we concatenate altogther and add other Dense layers\n",
        "output = Concatenate()(output_embeddings)\n",
        "output = Dense(1000, kernel_initializer=\"uniform\")(output)\n",
        "output = Activation('relu')(output)\n",
        "output= Dropout(0.4)(output)\n",
        "output = Dense(300, kernel_initializer=\"uniform\")(output)\n",
        "output = Activation('relu')(output)\n",
        "output= Dropout(0.3)(output)\n",
        "output = Dense(1, activation='sigmoid')(output)\n",
        "\n",
        "model = Model(inputs=input_models, outputs=output)\n",
        "model.compile(loss='binary_crossentropy', optimizer='adam', metrics=['accuracy'])"
      ],
      "execution_count": 46,
      "outputs": [
        {
          "output_type": "stream",
          "text": [
            "h3_Embedding\n",
            "week_day_Embedding\n",
            "38\n"
          ],
          "name": "stdout"
        }
      ]
    },
    {
      "cell_type": "code",
      "metadata": {
        "id": "1ZqpO6kzw_y2"
      },
      "source": [
        "import pydot_ng as pydot"
      ],
      "execution_count": 47,
      "outputs": []
    },
    {
      "cell_type": "code",
      "metadata": {
        "colab": {
          "base_uri": "https://localhost:8080/",
          "height": 606
        },
        "id": "3Vyu9TjRxBY5",
        "outputId": "fadf55fe-5f18-4d3b-f85e-ceaba2c9ecce"
      },
      "source": [
        "plot_model(model, show_shapes=True, show_layer_names=True, to_file='model.png')\n",
        "from IPython.display import Image\n",
        "Image(retina=True, filename='model.png')"
      ],
      "execution_count": 48,
      "outputs": [
        {
          "output_type": "execute_result",
          "data": {
            "image/png": "[encoded data removed]",
            "text/plain": [
              "<IPython.core.display.Image object>"
            ]
          },
          "metadata": {
            "tags": [],
            "image/png": {
              "width": 641,
              "height": 590
            }
          },
          "execution_count": 48
        }
      ]
    },
    {
      "cell_type": "code",
      "metadata": {
        "id": "k04O-GtDxLzz"
      },
      "source": [
        "#X_train_list,X_val_list = preproc(X_train,X_test)"
      ],
      "execution_count": null,
      "outputs": []
    },
    {
      "cell_type": "code",
      "metadata": {
        "colab": {
          "base_uri": "https://localhost:8080/"
        },
        "id": "VR65geR1xiAq",
        "outputId": "b74d2a26-b433-4171-c7f4-f17b03eb0a7b"
      },
      "source": [
        "history = model.fit(\n",
        "    input_list_train,y_train,validation_data=(input_list_val,y_test) ,\n",
        "    #callbacks=[tensorboard_callback],\n",
        "    epochs =  20 , batch_size = 10000)"
      ],
      "execution_count": 49,
      "outputs": [
        {
          "output_type": "stream",
          "text": [
            "Epoch 1/20\n",
            "41/41 [==============================] - 5s 32ms/step - loss: 1.9997 - accuracy: 0.5582 - val_loss: 0.6599 - val_accuracy: 0.6146\n",
            "Epoch 2/20\n",
            "41/41 [==============================] - 1s 19ms/step - loss: 0.6561 - accuracy: 0.6136 - val_loss: 0.6392 - val_accuracy: 0.6357\n",
            "Epoch 3/20\n",
            "41/41 [==============================] - 1s 19ms/step - loss: 0.6365 - accuracy: 0.6386 - val_loss: 0.6197 - val_accuracy: 0.6567\n",
            "Epoch 4/20\n",
            "41/41 [==============================] - 1s 19ms/step - loss: 0.6182 - accuracy: 0.6560 - val_loss: 0.5985 - val_accuracy: 0.6695\n",
            "Epoch 5/20\n",
            "41/41 [==============================] - 1s 19ms/step - loss: 0.6011 - accuracy: 0.6715 - val_loss: 0.5814 - val_accuracy: 0.6837\n",
            "Epoch 6/20\n",
            "41/41 [==============================] - 1s 19ms/step - loss: 0.5853 - accuracy: 0.6815 - val_loss: 0.5616 - val_accuracy: 0.6945\n",
            "Epoch 7/20\n",
            "41/41 [==============================] - 1s 19ms/step - loss: 0.5688 - accuracy: 0.6921 - val_loss: 0.5516 - val_accuracy: 0.7002\n",
            "Epoch 8/20\n",
            "41/41 [==============================] - 1s 19ms/step - loss: 0.5574 - accuracy: 0.6995 - val_loss: 0.5433 - val_accuracy: 0.7065\n",
            "Epoch 9/20\n",
            "41/41 [==============================] - 1s 19ms/step - loss: 0.5490 - accuracy: 0.7050 - val_loss: 0.5403 - val_accuracy: 0.7116\n",
            "Epoch 10/20\n",
            "41/41 [==============================] - 1s 19ms/step - loss: 0.5429 - accuracy: 0.7090 - val_loss: 0.5347 - val_accuracy: 0.7146\n",
            "Epoch 11/20\n",
            "41/41 [==============================] - 1s 19ms/step - loss: 0.5382 - accuracy: 0.7127 - val_loss: 0.5328 - val_accuracy: 0.7164\n",
            "Epoch 12/20\n",
            "41/41 [==============================] - 1s 19ms/step - loss: 0.5336 - accuracy: 0.7166 - val_loss: 0.5277 - val_accuracy: 0.7172\n",
            "Epoch 13/20\n",
            "41/41 [==============================] - 1s 19ms/step - loss: 0.5322 - accuracy: 0.7173 - val_loss: 0.5267 - val_accuracy: 0.7183\n",
            "Epoch 14/20\n",
            "41/41 [==============================] - 1s 19ms/step - loss: 0.5311 - accuracy: 0.7194 - val_loss: 0.5252 - val_accuracy: 0.7212\n",
            "Epoch 15/20\n",
            "41/41 [==============================] - 1s 19ms/step - loss: 0.5279 - accuracy: 0.7206 - val_loss: 0.5231 - val_accuracy: 0.7213\n",
            "Epoch 16/20\n",
            "41/41 [==============================] - 1s 19ms/step - loss: 0.5249 - accuracy: 0.7228 - val_loss: 0.5200 - val_accuracy: 0.7258\n",
            "Epoch 17/20\n",
            "41/41 [==============================] - 1s 19ms/step - loss: 0.5237 - accuracy: 0.7239 - val_loss: 0.5203 - val_accuracy: 0.7231\n",
            "Epoch 18/20\n",
            "41/41 [==============================] - 1s 19ms/step - loss: 0.5226 - accuracy: 0.7242 - val_loss: 0.5192 - val_accuracy: 0.7269\n",
            "Epoch 19/20\n",
            "41/41 [==============================] - 1s 19ms/step - loss: 0.5198 - accuracy: 0.7267 - val_loss: 0.5226 - val_accuracy: 0.7197\n",
            "Epoch 20/20\n",
            "41/41 [==============================] - 1s 19ms/step - loss: 0.5197 - accuracy: 0.7265 - val_loss: 0.5173 - val_accuracy: 0.7289\n"
          ],
          "name": "stdout"
        }
      ]
    },
    {
      "cell_type": "code",
      "metadata": {
        "id": "nn3ZqVLlHeSj",
        "colab": {
          "base_uri": "https://localhost:8080/"
        },
        "outputId": "7c054fea-5ce7-46c3-9d22-a7ec2925663d"
      },
      "source": [
        "%tensorboard --logdir logs"
      ],
      "execution_count": null,
      "outputs": [
        {
          "output_type": "stream",
          "text": [
            "UsageError: Line magic function `%tensorboard` not found.\n"
          ],
          "name": "stderr"
        }
      ]
    },
    {
      "cell_type": "code",
      "metadata": {
        "colab": {
          "base_uri": "https://localhost:8080/"
        },
        "id": "eIz2O4s-lF8x",
        "outputId": "45fed30e-37d1-421d-8bb0-518e8097577d"
      },
      "source": [
        "print(model.get_layer('h3_Embedding').get_weights()[0])"
      ],
      "execution_count": null,
      "outputs": [
        {
          "output_type": "stream",
          "text": [
            "[[-0.2235655   0.1512368   0.15067956 ...  0.22915171  0.17648377\n",
            "  -0.22018589]\n",
            " [-0.23114865 -0.10101129 -0.00044273 ...  0.08416288 -0.00483582\n",
            "  -0.225928  ]\n",
            " [ 0.06975544  0.05074583 -0.02427555 ...  0.11966282  0.0328956\n",
            "  -0.06645448]\n",
            " ...\n",
            " [-0.12978451  0.07573412  0.08272915 ...  0.00203323 -0.01893084\n",
            "   0.05627939]\n",
            " [-0.03531975  0.1091314   0.03636815 ... -0.01605757  0.00949536\n",
            "   0.11225805]\n",
            " [-0.12825568  0.1546834   0.12246139 ...  0.05708611  0.11970674\n",
            "  -0.09810632]]\n"
          ],
          "name": "stdout"
        }
      ]
    },
    {
      "cell_type": "code",
      "metadata": {
        "id": "sR304Z60V19b"
      },
      "source": [
        "emb_layer = model.get_layer('h3_Embedding')\n",
        "(w,) = emb_layer.get_weights()"
      ],
      "execution_count": 50,
      "outputs": []
    },
    {
      "cell_type": "code",
      "metadata": {
        "colab": {
          "base_uri": "https://localhost:8080/"
        },
        "id": "uyOKNRwF_HFE",
        "outputId": "ac409137-fbce-4218-dbbc-067dfd88e52f"
      },
      "source": [
        "print(w[90])"
      ],
      "execution_count": null,
      "outputs": [
        {
          "output_type": "stream",
          "text": [
            "[ 0.15474461 -0.02887305 -0.08045731  0.01776337 -0.04368843 -0.04265194\n",
            " -0.00940242 -0.07859115  0.05412883 -0.10201757  0.01311546  0.1944821\n",
            " -0.07725983  0.00157431  0.04300236  0.12462098 -0.16483214  0.05270889\n",
            "  0.03298869 -0.0770871   0.01897499  0.05473979  0.05941738 -0.02431231\n",
            "  0.0127031  -0.02739444  0.01629099  0.20734903 -0.0369265  -0.19078116\n",
            " -0.02884058 -0.16738237  0.02775524 -0.07624375  0.00659901  0.04055737\n",
            " -0.03130688  0.00744027  0.13383044  0.04513079 -0.00293639 -0.03286119\n",
            " -0.11240687  0.04513862  0.06552753  0.20123947  0.01179506 -0.09460197\n",
            " -0.05084961  0.03488151]\n"
          ],
          "name": "stdout"
        }
      ]
    },
    {
      "cell_type": "code",
      "metadata": {
        "id": "MPLWjRaKV6Vj"
      },
      "source": [
        "f = {\n",
        "        'h3' : 'count'\n",
        "}\n",
        "\n",
        "g = df_categorical.groupby(['h3'])\n",
        "v1 = g.agg(f)"
      ],
      "execution_count": null,
      "outputs": []
    },
    {
      "cell_type": "code",
      "metadata": {
        "id": "FtlcqeWCV7k6"
      },
      "source": [
        "filter_h3 = v1.loc[v1.h3 > 1000]"
      ],
      "execution_count": null,
      "outputs": []
    },
    {
      "cell_type": "code",
      "metadata": {
        "colab": {
          "base_uri": "https://localhost:8080/"
        },
        "id": "_LyPFK-SXpgH",
        "outputId": "45ad89f4-d7f6-4dd5-d9b9-f9923e974bef"
      },
      "source": [
        "len(filter_h3.index.to_list())"
      ],
      "execution_count": null,
      "outputs": [
        {
          "output_type": "execute_result",
          "data": {
            "text/plain": [
              "174"
            ]
          },
          "metadata": {
            "tags": []
          },
          "execution_count": 61
        }
      ]
    },
    {
      "cell_type": "markdown",
      "metadata": {
        "id": "IvkeX4962twT"
      },
      "source": [
        "Tensorboard - Projections"
      ]
    },
    {
      "cell_type": "code",
      "metadata": {
        "colab": {
          "base_uri": "https://localhost:8080/"
        },
        "id": "t1nKT5ZqV7Eg",
        "outputId": "c9c0c854-c811-4a24-f97f-a168b002817a"
      },
      "source": [
        "list_v = list_\n",
        "head = [['h3','area']]\n",
        "list_v = head + list_v\n",
        "len(list_v)"
      ],
      "execution_count": 51,
      "outputs": [
        {
          "output_type": "execute_result",
          "data": {
            "text/plain": [
              "540"
            ]
          },
          "metadata": {
            "tags": []
          },
          "execution_count": 51
        }
      ]
    },
    {
      "cell_type": "code",
      "metadata": {
        "id": "6p_DnK4tV4oD"
      },
      "source": [
        "#https://stackoverflow.com/questions/55343375/mapping-entity-embeddings-back-to-the-original-categorical-values\n",
        "\n",
        "weights = model.get_layer('h3_Embedding').get_weights()[0]\n",
        "vocab = np.array(list_v)#vectorize_layer.get_vocabulary()"
      ],
      "execution_count": 52,
      "outputs": []
    },
    {
      "cell_type": "code",
      "metadata": {
        "colab": {
          "base_uri": "https://localhost:8080/"
        },
        "id": "1zxJLLC3kCTJ",
        "outputId": "bd476c68-ac8b-4bbe-8346-ff30c0fd3eff"
      },
      "source": [
        "len(vocab)"
      ],
      "execution_count": null,
      "outputs": [
        {
          "output_type": "execute_result",
          "data": {
            "text/plain": [
              "540"
            ]
          },
          "metadata": {
            "tags": []
          },
          "execution_count": 87
        }
      ]
    },
    {
      "cell_type": "code",
      "metadata": {
        "id": "pPHPOisVWRKd"
      },
      "source": [
        "import io\n",
        "\n",
        "out_v = io.open('vectors.tsv', 'w', encoding='utf-8')\n",
        "out_m = io.open('metadata.tsv', 'w', encoding='utf-8')\n",
        "\n",
        "for index, word in enumerate(vocab):\n",
        "  #if index == 0:\n",
        "  #  continue  # skip 0, it's padding.\n",
        "  #print(index)\n",
        "  vec = weights[index]\n",
        "  word_ = list_v[index]\n",
        "  out_v.write('\\t'.join([str(x) for x in vec]) + \"\\n\")\n",
        "  #out_m.write('\\t'.join([str(x) for x in word_]) + \"\\n\")\n",
        "  out_m.write(word + \"\\n\")\n",
        "out_v.close()\n",
        "out_m.close()"
      ],
      "execution_count": null,
      "outputs": []
    },
    {
      "cell_type": "code",
      "metadata": {
        "id": "QOPi4DctlEXg"
      },
      "source": [
        "import io\n",
        "\n",
        "out_v = io.open('vectors.tsv', 'w', encoding='utf-8')\n",
        "out_m = io.open('metadata.tsv', 'w', encoding='utf-8')\n",
        "\n",
        "for index, word in enumerate(weights):\n",
        "  #if index == 0:\n",
        "  #  continue  # skip 0, it's padding.\n",
        "  #print(index)\n",
        "  vec = weights[index]\n",
        "  #word_ = list_v[index]\n",
        "  out_v.write('\\t'.join([str(x) for x in vec]) + \"\\n\")\n",
        "  #out_m.write('\\t'.join([str(x) for x in word_]) + \"\\n\")\n",
        "  #out_m.write(word + \"\\n\")\n",
        "\n",
        "for index, word in enumerate(vocab):\n",
        "  #if index == 0:\n",
        "  #  continue  # skip 0, it's padding.\n",
        "  #print(index)\n",
        "  #vec = weights[index]\n",
        "  word_ = list_v[index]\n",
        "  #out_v.write('\\t'.join([str(x) for x in vec]) + \"\\n\")\n",
        "  out_m.write('\\t'.join([str(x) for x in word_]) + \"\\n\")\n",
        "  #out_m.write(word + \"\\n\")\n",
        "\n",
        "out_v.close()\n",
        "out_m.close()"
      ],
      "execution_count": 54,
      "outputs": []
    },
    {
      "cell_type": "code",
      "metadata": {
        "colab": {
          "base_uri": "https://localhost:8080/"
        },
        "id": "IUhejG4afF6A",
        "outputId": "241bb253-d189-46da-ebf9-ab21cee3601a"
      },
      "source": [
        "list_v[0]"
      ],
      "execution_count": null,
      "outputs": [
        {
          "output_type": "execute_result",
          "data": {
            "text/plain": [
              "array(['8818596961fffff', 'Gijón'], dtype='<U15')"
            ]
          },
          "metadata": {
            "tags": []
          },
          "execution_count": 43
        }
      ]
    },
    {
      "cell_type": "code",
      "metadata": {
        "colab": {
          "base_uri": "https://localhost:8080/",
          "height": 16
        },
        "id": "IbNJ6F_8X8s0",
        "outputId": "bfa373d6-25da-4234-9937-a53fa8c50f07"
      },
      "source": [
        "try:\n",
        "  from google.colab import files\n",
        "  files.download('vectors.tsv')\n",
        "  files.download('metadata.tsv')\n",
        "except Exception:\n",
        "  pass"
      ],
      "execution_count": null,
      "outputs": [
        {
          "output_type": "display_data",
          "data": {
            "application/javascript": [
              "\n",
              "    async function download(id, filename, size) {\n",
              "      if (!google.colab.kernel.accessAllowed) {\n",
              "        return;\n",
              "      }\n",
              "      const div = document.createElement('div');\n",
              "      const label = document.createElement('label');\n",
              "      label.textContent = `Downloading \"${filename}\": `;\n",
              "      div.appendChild(label);\n",
              "      const progress = document.createElement('progress');\n",
              "      progress.max = size;\n",
              "      div.appendChild(progress);\n",
              "      document.body.appendChild(div);\n",
              "\n",
              "      const buffers = [];\n",
              "      let downloaded = 0;\n",
              "\n",
              "      const channel = await google.colab.kernel.comms.open(id);\n",
              "      // Send a message to notify the kernel that we're ready.\n",
              "      channel.send({})\n",
              "\n",
              "      for await (const message of channel.messages) {\n",
              "        // Send a message to notify the kernel that we're ready.\n",
              "        channel.send({})\n",
              "        if (message.buffers) {\n",
              "          for (const buffer of message.buffers) {\n",
              "            buffers.push(buffer);\n",
              "            downloaded += buffer.byteLength;\n",
              "            progress.value = downloaded;\n",
              "          }\n",
              "        }\n",
              "      }\n",
              "      const blob = new Blob(buffers, {type: 'application/binary'});\n",
              "      const a = document.createElement('a');\n",
              "      a.href = window.URL.createObjectURL(blob);\n",
              "      a.download = filename;\n",
              "      div.appendChild(a);\n",
              "      a.click();\n",
              "      div.remove();\n",
              "    }\n",
              "  "
            ],
            "text/plain": [
              "<IPython.core.display.Javascript object>"
            ]
          },
          "metadata": {
            "tags": []
          }
        },
        {
          "output_type": "display_data",
          "data": {
            "application/javascript": [
              "download(\"download_901df62c-688b-47ef-8ee0-27c8c402971f\", \"vectors.tsv\", 323431)"
            ],
            "text/plain": [
              "<IPython.core.display.Javascript object>"
            ]
          },
          "metadata": {
            "tags": []
          }
        },
        {
          "output_type": "display_data",
          "data": {
            "application/javascript": [
              "\n",
              "    async function download(id, filename, size) {\n",
              "      if (!google.colab.kernel.accessAllowed) {\n",
              "        return;\n",
              "      }\n",
              "      const div = document.createElement('div');\n",
              "      const label = document.createElement('label');\n",
              "      label.textContent = `Downloading \"${filename}\": `;\n",
              "      div.appendChild(label);\n",
              "      const progress = document.createElement('progress');\n",
              "      progress.max = size;\n",
              "      div.appendChild(progress);\n",
              "      document.body.appendChild(div);\n",
              "\n",
              "      const buffers = [];\n",
              "      let downloaded = 0;\n",
              "\n",
              "      const channel = await google.colab.kernel.comms.open(id);\n",
              "      // Send a message to notify the kernel that we're ready.\n",
              "      channel.send({})\n",
              "\n",
              "      for await (const message of channel.messages) {\n",
              "        // Send a message to notify the kernel that we're ready.\n",
              "        channel.send({})\n",
              "        if (message.buffers) {\n",
              "          for (const buffer of message.buffers) {\n",
              "            buffers.push(buffer);\n",
              "            downloaded += buffer.byteLength;\n",
              "            progress.value = downloaded;\n",
              "          }\n",
              "        }\n",
              "      }\n",
              "      const blob = new Blob(buffers, {type: 'application/binary'});\n",
              "      const a = document.createElement('a');\n",
              "      a.href = window.URL.createObjectURL(blob);\n",
              "      a.download = filename;\n",
              "      div.appendChild(a);\n",
              "      a.click();\n",
              "      div.remove();\n",
              "    }\n",
              "  "
            ],
            "text/plain": [
              "<IPython.core.display.Javascript object>"
            ]
          },
          "metadata": {
            "tags": []
          }
        },
        {
          "output_type": "display_data",
          "data": {
            "application/javascript": [
              "download(\"download_e759ff3f-e97b-4cdc-8ff5-ca25cc905324\", \"metadata.tsv\", 13345)"
            ],
            "text/plain": [
              "<IPython.core.display.Javascript object>"
            ]
          },
          "metadata": {
            "tags": []
          }
        }
      ]
    },
    {
      "cell_type": "markdown",
      "metadata": {
        "id": "IGMgrL5s6HhF"
      },
      "source": [
        "Save the model"
      ]
    },
    {
      "cell_type": "code",
      "metadata": {
        "id": "53_5PicPYPmt",
        "colab": {
          "base_uri": "https://localhost:8080/"
        },
        "outputId": "da659bc7-0d4f-4286-e1c4-7cb3e3726b6d"
      },
      "source": [
        "from tensorflow.keras.models import Sequential, save_model, load_model\n",
        "filepath = './saved_model'\n",
        "save_model(model, filepath)"
      ],
      "execution_count": null,
      "outputs": [
        {
          "output_type": "stream",
          "text": [
            "INFO:tensorflow:Assets written to: ./saved_model/assets\n"
          ],
          "name": "stdout"
        }
      ]
    },
    {
      "cell_type": "markdown",
      "metadata": {
        "id": "t_tAAP_56JLS"
      },
      "source": [
        "Load the model"
      ]
    },
    {
      "cell_type": "code",
      "metadata": {
        "id": "xPL4zcL66GEx"
      },
      "source": [
        "model = load_model(filepath, compile = True)"
      ],
      "execution_count": null,
      "outputs": []
    },
    {
      "cell_type": "code",
      "metadata": {
        "colab": {
          "base_uri": "https://localhost:8080/"
        },
        "id": "0cZrpDziBIo2",
        "outputId": "84978dd1-897e-49d7-c585-5eef0d1302fe"
      },
      "source": [
        "b = []\n",
        "for i in range(3):\n",
        "    print(i)\n",
        "    a = input_list_train[i][1]\n",
        "    b.append(a)\n",
        "#np.array(input_list_train[0][0],input_list_train[0][1],input_list_train[0][2])"
      ],
      "execution_count": 55,
      "outputs": [
        {
          "output_type": "stream",
          "text": [
            "0\n",
            "1\n",
            "2\n"
          ],
          "name": "stdout"
        }
      ]
    },
    {
      "cell_type": "code",
      "metadata": {
        "id": "SPRiBLRjEKsW"
      },
      "source": [
        "predict_list = []\n",
        "j = 9\n",
        "a = [input_list_train[0][j]]\n",
        "c = [input_list_train[1][j]]\n",
        "d = [input_list_train[2][j]]"
      ],
      "execution_count": 110,
      "outputs": []
    },
    {
      "cell_type": "code",
      "metadata": {
        "id": "43gUdeykChcP"
      },
      "source": [
        "predict_list.append(np.array(a))\n",
        "predict_list.append(np.array(c))\n",
        "predict_list.append(np.array(d))"
      ],
      "execution_count": 111,
      "outputs": []
    },
    {
      "cell_type": "code",
      "metadata": {
        "id": "L1Dpn3jcCRFY"
      },
      "source": [
        "input = [predict_list]\n",
        "#input"
      ],
      "execution_count": 112,
      "outputs": []
    },
    {
      "cell_type": "markdown",
      "metadata": {
        "id": "k8BaBADR6oGy"
      },
      "source": [
        "Do predictions on new data"
      ]
    },
    {
      "cell_type": "code",
      "metadata": {
        "colab": {
          "base_uri": "https://localhost:8080/"
        },
        "id": "4B5FJDm06qDg",
        "outputId": "c1c54835-efe2-4e8f-faed-642906747143"
      },
      "source": [
        "#b = nparray(b).astype('float32')\n",
        "predictions = model.predict(input)\n",
        "print(predictions)"
      ],
      "execution_count": 113,
      "outputs": [
        {
          "output_type": "stream",
          "text": [
            "[[0.79531676]]\n"
          ],
          "name": "stdout"
        }
      ]
    },
    {
      "cell_type": "code",
      "metadata": {
        "id": "z2OKZy92n9TJ",
        "outputId": "748a9054-bfb6-4b2a-cf04-71563979cb30",
        "colab": {
          "base_uri": "https://localhost:8080/"
        }
      },
      "source": [
        "y_train.iloc[0:10]"
      ],
      "execution_count": 109,
      "outputs": [
        {
          "output_type": "execute_result",
          "data": {
            "text/plain": [
              "538552    1\n",
              "424107    1\n",
              "498475    0\n",
              "249229    1\n",
              "375200    1\n",
              "359723    0\n",
              "58734     1\n",
              "274351    1\n",
              "585076    0\n",
              "524953    1\n",
              "Name: met_ride, dtype: int64"
            ]
          },
          "metadata": {
            "tags": []
          },
          "execution_count": 109
        }
      ]
    }
  ]
}