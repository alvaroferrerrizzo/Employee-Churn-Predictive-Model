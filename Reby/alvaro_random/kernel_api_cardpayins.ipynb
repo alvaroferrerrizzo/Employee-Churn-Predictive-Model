{
  "nbformat": 4,
  "nbformat_minor": 0,
  "metadata": {
    "colab": {
      "name": "kernal_api.ipynb",
      "provenance": [],
      "collapsed_sections": [],
      "include_colab_link": true
    },
    "kernelspec": {
      "display_name": "Python 3",
      "language": "python",
      "name": "python3"
    },
    "language_info": {
      "codemirror_mode": {
        "name": "ipython",
        "version": 3
      },
      "file_extension": ".py",
      "mimetype": "text/x-python",
      "name": "python",
      "nbconvert_exporter": "python",
      "pygments_lexer": "ipython3",
      "version": "3.9.1"
    }
  },
  "cells": [
    {
      "cell_type": "markdown",
      "metadata": {
        "id": "view-in-github",
        "colab_type": "text"
      },
      "source": [
        "<a href=\"https://colab.research.google.com/github/alvaroferrerrizzo/Employee-Churn-Predictive-Model/blob/master/Reby/alvaro_random/kernel_api_cardpayins.ipynb\" target=\"_parent\"><img src=\"https://colab.research.google.com/assets/colab-badge.svg\" alt=\"Open In Colab\"/></a>"
      ]
    },
    {
      "cell_type": "code",
      "metadata": {
        "id": "KM8KlOQ4O6A9"
      },
      "source": [
        "import json\n",
        "import pandas as pd\n",
        "import requests\n",
        "import time\n",
        "import os\n",
        "import datetime\n",
        "from google.cloud import bigquery\n",
        "import re"
      ],
      "execution_count": 2,
      "outputs": []
    },
    {
      "cell_type": "code",
      "metadata": {
        "id": "Ixwr5bj5PJh0"
      },
      "source": [
        "cos = ['reby','oiz','avant','tucycle','iberscot','reby_spain','reby_italy']\n",
        "cos_ids = ['acc_3rjqcmjjct5qey8tstf1','acc_3rjqcudcqm5817xsldx1',\n",
        "           'acc_3rjqcqpfc144km6bdch1','acc_3rjqcs9fnxk3la3zp5yh',\n",
        "           'acc_3rjqctd816yhqq7ufj81','acc_3su61k4l3n61dfmsgrah',\n",
        "           'acc_3su61kkje19lqp9a728h']"
      ],
      "execution_count": 3,
      "outputs": []
    },
    {
      "cell_type": "code",
      "metadata": {
        "id": "czwA9Kv-_4lg"
      },
      "source": [
        "from google.colab import auth\n",
        "auth.authenticate_user()\n",
        " \n",
        "%load_ext google.colab.data_table\n",
        "project_id = 'reby-cloud'\n",
        "client = bigquery.Client(project=project_id)"
      ],
      "execution_count": 50,
      "outputs": []
    },
    {
      "cell_type": "code",
      "metadata": {
        "id": "9_lnJKGx7KlL"
      },
      "source": [
        "#os.environ[\"GOOGLE_APPLICATION_CREDENTIALS\"]=\"reby-cloud.json\""
      ],
      "execution_count": 4,
      "outputs": []
    },
    {
      "cell_type": "code",
      "metadata": {
        "id": "cuM0LN9PFTCR",
        "colab": {
          "base_uri": "https://localhost:8080/"
        },
        "outputId": "4501b4f5-66dd-480d-87b2-47369d6202ec"
      },
      "source": [
        "auth_token='live-mob_secretkey_3san8rtxkt5ezlbz34m1_43c759a649130e2512e45d8a071d15c8904b391bd808b5a2'\n",
        "hed = {'Authorization': 'Bearer ' + auth_token}\n",
        "final_json = []\n",
        "url_main = 'https://api.kernelpay.com/v1'\n",
        "\n",
        "#account_id = 'acc_3rjqcudcqm5817xsldx1'\n",
        "url_cardpayin_tx = url_main+'/card_payins?limit=100'\n",
        "\n",
        "print(url_cardpayin_tx)\n",
        "\n",
        "#url = 'https://api.kernelpay.com/v1/accounts/acc_3rjqcudcqm5817xsldx1/transactions?expand=transfer'\n",
        "#url_next = 'https://api.kernelpay.com/v1/accounts/acc_3rjqcudcqm5817xsldx1/transactions?expand=transfer'\n",
        "\n",
        "response = requests.get(url_cardpayin_tx\n",
        "                        , headers=hed)\n",
        "#print(response)\n",
        "#print(response.json())\n",
        "response_json = response.json()\n",
        "\n",
        "#response_json['created_at']"
      ],
      "execution_count": 39,
      "outputs": [
        {
          "output_type": "stream",
          "text": [
            "https://api.kernelpay.com/v1/card_payins?limit=100\n"
          ],
          "name": "stdout"
        }
      ]
    },
    {
      "cell_type": "code",
      "metadata": {
        "id": "QZuc2uDbRk68",
        "colab": {
          "base_uri": "https://localhost:8080/"
        },
        "outputId": "8101d701-ed87-4877-8d6b-a8de299a969f"
      },
      "source": [
        "len(response_json)\n",
        "response_json.keys()"
      ],
      "execution_count": 40,
      "outputs": [
        {
          "output_type": "execute_result",
          "data": {
            "text/plain": [
              "dict_keys(['data', 'has_next', 'cursor_next'])"
            ]
          },
          "metadata": {
            "tags": []
          },
          "execution_count": 40
        }
      ]
    },
    {
      "cell_type": "code",
      "metadata": {
        "id": "l3qpppfxSfV6",
        "colab": {
          "base_uri": "https://localhost:8080/"
        },
        "outputId": "00aea54b-7eb0-4b29-a3f5-d24315e80fdd"
      },
      "source": [
        "len(response_json['data'])"
      ],
      "execution_count": 41,
      "outputs": [
        {
          "output_type": "execute_result",
          "data": {
            "text/plain": [
              "100"
            ]
          },
          "metadata": {
            "tags": []
          },
          "execution_count": 41
        }
      ]
    },
    {
      "cell_type": "code",
      "metadata": {
        "id": "6HqwL9N9RZIV"
      },
      "source": [
        "cursor_next = response_json.get('cursor_next')\n",
        "has_next = str(response_json.get('has_next'))"
      ],
      "execution_count": 42,
      "outputs": []
    },
    {
      "cell_type": "code",
      "metadata": {
        "id": "GTXuOXoWR-j0",
        "colab": {
          "base_uri": "https://localhost:8080/"
        },
        "outputId": "2fec32fd-f098-489f-87f4-fcae4d92569e"
      },
      "source": [
        "print(response_json['has_next'])"
      ],
      "execution_count": 43,
      "outputs": [
        {
          "output_type": "stream",
          "text": [
            "True\n"
          ],
          "name": "stdout"
        }
      ]
    },
    {
      "cell_type": "code",
      "metadata": {
        "id": "-Vc50FdkitsH",
        "outputId": "59cc9572-c52a-4589-9b00-05bd999c80a2",
        "colab": {
          "base_uri": "https://localhost:8080/"
        }
      },
      "source": [
        "#working with time\n",
        "now_ = datetime.datetime.now(tz=None)\n",
        "print(now_)\n",
        "days = datetime.timedelta(5)\n",
        "print(now_-days)"
      ],
      "execution_count": 44,
      "outputs": [
        {
          "output_type": "stream",
          "text": [
            "2021-07-12 12:54:26.537605\n",
            "2021-07-07 12:54:26.537605\n"
          ],
          "name": "stdout"
        }
      ]
    },
    {
      "cell_type": "code",
      "metadata": {
        "id": "mRUizBR6jWLa"
      },
      "source": [
        "created_at = '2021-07-09T12:50:01.819234304Z'\n",
        "created_at_str = created_at\n",
        "timestamp_regex = re.findall(\n",
        "            r\"\\d{4}-\\d{1,2}-\\d{1,2}T\\d{1,2}:\\d{1,2}:\\d{1,2}.\\d{1,5}\",created_at_str)\n",
        "created_at_regex_unique = timestamp_regex[0]\n",
        "created_at_formatted = datetime.datetime.strptime(created_at_regex_unique, '%Y-%m-%dT%H:%M:%S.%f')"
      ],
      "execution_count": 16,
      "outputs": []
    },
    {
      "cell_type": "code",
      "metadata": {
        "id": "-tNMbNa7wKIf",
        "outputId": "5481952f-17f0-47b3-dd0d-0d5305e553d4",
        "colab": {
          "base_uri": "https://localhost:8080/"
        }
      },
      "source": [
        "response_json['data'][0]"
      ],
      "execution_count": 29,
      "outputs": [
        {
          "output_type": "execute_result",
          "data": {
            "text/plain": [
              "{'account_id': 'acc_3su61kkje19lqp9a728h',\n",
              " 'authentication_redirect_url': 'https://api.reby.co/v2/webhooks/kernelpay/paymentdone/c_3qteetfhxjshx4j54111',\n",
              " 'authentication_type': 'three_d_secure_2',\n",
              " 'authentication_url': '',\n",
              " 'calculated_statement_descriptor': 'EP* Reby',\n",
              " 'card_id': 'crd_3t92m7p43hat6y3bfjxh',\n",
              " 'card_info': {'bank': 'ISTITUTO CENTRALE DELLE BANCHE DI CREDITO COOPERATIVO (ICCREA)',\n",
              "  'brand': 'MasterCard',\n",
              "  'country': 'IT',\n",
              "  'expiration_month': 4,\n",
              "  'expiration_year': 24,\n",
              "  'fingerprint': 'gj/cEyu+5uB/2IwO',\n",
              "  'first6': '528287',\n",
              "  'funding': 'credit',\n",
              "  'number': '528287******9753'},\n",
              " 'configure_offline_card': None,\n",
              " 'created_at': '2021-07-12T12:45:27.872397312Z',\n",
              " 'decline_code': None,\n",
              " 'id': 'cpi_3t9hqlyy958482q99nlh',\n",
              " 'meta': {'_redsys_error_code': '0000',\n",
              "  'company_id': 'c_3qteetfhxjshx4j54111',\n",
              "  'top_up_id': 'to_3t9hqlyv8zeeygd235e1',\n",
              "  'transaction_id': 'tx_3t9hqlyv8vk85qddx8e1',\n",
              "  'transaction_type': 'pre_ride_charge',\n",
              "  'user_id': 'usr_3t8my8c5zg2jpjctvbph',\n",
              "  'user_session_id': 'sess_3t8my8cajmps2tz85qa1'},\n",
              " 'offline': True,\n",
              " 'project_id': 'prj_3rhmr1vp8xcnxvfktus1',\n",
              " 'refunded_value': {'amount': 0, 'currency': 'EUR'},\n",
              " 'sca_card_id': None,\n",
              " 'state': 'authorized',\n",
              " 'transaction_id': None,\n",
              " 'updated_at': '2021-07-12T12:45:29.21351Z',\n",
              " 'value': {'amount': 50, 'currency': 'EUR'}}"
            ]
          },
          "metadata": {
            "tags": []
          },
          "execution_count": 29
        }
      ]
    },
    {
      "cell_type": "code",
      "metadata": {
        "id": "NXxIFhePUxTE"
      },
      "source": [
        "j=0\n",
        "has_next = 'True'\n",
        "continue_ = 'True'\n",
        "cardpayins = []\n",
        "\n",
        "while has_next == 'True' and continue_ == 'True':\n",
        "#print( \"i counter {}\".format(i))\n",
        "    if i == 0:\n",
        "        fetch_url = url_cardpayin_tx\n",
        "    elif i>0:\n",
        "        fetch_url = url_cardpayin_tx+'&cursor='+cursor_next\n",
        "\n",
        "    response = requests.get(fetch_url, headers=hed)\n",
        "    response_json = response.json()\n",
        "    \n",
        "    for j in range(len(response_json['data'])):\n",
        "\n",
        "        #reset all values\n",
        "        api_pinged_at = None\n",
        "        created_at = None\n",
        "        updated_at = None\n",
        "        id = None\n",
        "        state = None\n",
        "        authentication_type = None\n",
        "        account_id = None\n",
        "        card_id = None\n",
        "        card_info_bank = None\n",
        "        card_info_brand = None\n",
        "        card_info_country = None\n",
        "        card_info_funding = None\n",
        "        decline_code = None\n",
        "        configure_offline_card = None\n",
        "        meta_redsys_error_code = None\n",
        "        meta_company_id = None\n",
        "        meta_top_up_id = None\n",
        "        meta_transaction_id = None\n",
        "        meta_transaction_type = None\n",
        "        meta_user_id = None\n",
        "        sca_card_id = None\n",
        "        value_amount = None\n",
        "\n",
        "        id = response_json['data'][j]['transaction_id']\n",
        "        sca_card_id = response_json['data'][j]['sca_card_id']\n",
        "        value_amount = response_json['data'][j]['value']['amount']\n",
        "        created_at = response_json['data'][j]['created_at']\n",
        "        updated_at = response_json['data'][j]['updated_at']\n",
        "        state = response_json['data'][j]['state']\n",
        "        offline = response_json['data'][j]['offline']\n",
        "        api_pinged_at = now_\n",
        "        authentication_type = response_json['data'][j]['authentication_type']\n",
        "        account_id = response_json['data'][j]['account_id']\n",
        "        card_id = response_json['data'][j]['card_id']\n",
        "        card_info_bank = response_json['data'][j]['card_info']['bank']\n",
        "        card_info_brand = response_json['data'][j]['card_info']['brand']\n",
        "        card_info_country = response_json['data'][j]['card_info']['country']\n",
        "        card_info_funding = response_json['data'][j]['card_info']['funding']\n",
        "        decline_code = response_json['data'][j]['decline_code']\n",
        "        configure_offline_card = response_json['data'][j]['configure_offline_card']\n",
        "        meta_company_id = response_json['data'][j]['meta']['company_id']\n",
        "        meta_top_up_id = response_json['data'][j]['meta']['top_up_id']\n",
        "        #meta_redsys_error_code = response_json['data'][j]['meta']['_redsys_error_code']\n",
        "        meta_transaction_id = response_json['data'][j]['meta']['transaction_id']\n",
        "        meta_user_id = response_json['data'][j]['meta']['user_id']\n",
        "        meta_transaction_type = response_json['data'][j]['meta']['transaction_type']\n",
        "    \n",
        "        cardpayins.append([\n",
        "                            id,\n",
        "                           api_pinged_at,\n",
        "                            created_at,\n",
        "                            updated_at,\n",
        "                            state,\n",
        "                            authentication_type,\n",
        "                            account_id,\n",
        "                            card_id,\n",
        "                            card_info_bank,\n",
        "                            card_info_brand,\n",
        "                            card_info_country,\n",
        "                            card_info_funding,\n",
        "                            decline_code,\n",
        "                            configure_offline_card,\n",
        "                            #meta_redsys_error_code,\n",
        "                            meta_company_id,\n",
        "                            meta_top_up_id,\n",
        "                            meta_transaction_id,\n",
        "                            meta_transaction_type,\n",
        "                            meta_user_id,\n",
        "                            sca_card_id,\n",
        "                            value_amount])\n",
        "\n",
        "    created_at_str = created_at\n",
        "    timestamp_regex = re.findall(\n",
        "                r\"\\d{4}-\\d{1,2}-\\d{1,2}T\\d{1,2}:\\d{1,2}:\\d{1,2}.\\d{1,5}\",created_at_str)\n",
        "    created_at_regex_unique = timestamp_regex[0]\n",
        "    created_at_formatted = datetime.datetime.strptime(created_at_regex_unique, '%Y-%m-%dT%H:%M:%S.%f')\n",
        "\n",
        "\n",
        "\n",
        "    delta = now_ - created_at_formatted \n",
        "    print(f'updated_at_formatted {created_at_formatted}')\n",
        "    print(f'now_ {now_}')\n",
        "    print(delta.days)\n",
        "\n",
        "    continue_ = 'True' if delta.days < 5 else 'False'\n",
        "    print(continue_)\n",
        "\n",
        "    cursor_next = response_json.get('cursor_next')\n",
        "    has_next = str(response_json.get('has_next'))\n",
        "\n",
        "    print(f'cursor next {cursor_next}')\n",
        "    \n",
        "    j = j + 1\n",
        "    time.sleep(0.1)"
      ],
      "execution_count": null,
      "outputs": []
    },
    {
      "cell_type": "code",
      "metadata": {
        "id": "P5dZmTZLU_Do"
      },
      "source": [
        "cardpayins_df = pd.DataFrame(cardpayins)\n",
        "if len(cardpayins) >  0:\n",
        "    cardpayins_df.columns = ['id',\n",
        "                           'api_pinged_at',\n",
        "                            'created_at',\n",
        "                            'updated_at',\n",
        "                            'state',\n",
        "                            'authentication_type',\n",
        "                            'account_id',\n",
        "                            'card_id',\n",
        "                            'card_info_bank',\n",
        "                            'card_info_brand',\n",
        "                            'card_info_country',\n",
        "                            'card_info_funding',\n",
        "                            'decline_code',\n",
        "                            'configure_offline_card',\n",
        "                            #meta_redsys_error_code,\n",
        "                            'meta_company_id',\n",
        "                            'meta_top_up_id',\n",
        "                            'meta_transaction_id',\n",
        "                            'meta_transaction_type',\n",
        "                            'meta_user_id',\n",
        "                            'sca_card_id',\n",
        "                            'value_amount']\n"
      ],
      "execution_count": 48,
      "outputs": []
    },
    {
      "cell_type": "code",
      "metadata": {
        "id": "13Bchm-JOMkT"
      },
      "source": [
        "from google.cloud import bigquery\n",
        "\n",
        "def send_to_bigquery(df,dataset,table):\n",
        "     client = bigquery.Client(project = 'reby-cloud')\n",
        "     table_id = 'reby-cloud.'+dataset+'.'+table\n",
        "     print('table_id: {}'.format(table_id))\n",
        "     #print(df)\n",
        "     job_config = bigquery.LoadJobConfig()\n",
        "     job_config.schema_autodetect = True\n",
        "     job_config.write_disposition = 'WRITE_TRUNCATE'\n",
        "     job_config.create_disposition = 'CREATE_IF_NEEDED'\n",
        "     job = client.load_table_from_dataframe(df, table_id,job_config=job_config)\n",
        "     # Wait for the load job to complete.\n",
        "     result = job.result()\n",
        "     #print(result)\n",
        "     return 'dataframe appended'"
      ],
      "execution_count": null,
      "outputs": []
    },
    {
      "cell_type": "code",
      "metadata": {
        "id": "cCW1IEub7KlT",
        "outputId": "ea0298b3-7b00-4e19-d469-2cb72992e025",
        "colab": {
          "base_uri": "https://localhost:8080/",
          "height": 86
        }
      },
      "source": [
        "send_to_bigquery(cardpayins_df,'temp_eu','delete_cardpayins')"
      ],
      "execution_count": 51,
      "outputs": [
        {
          "output_type": "stream",
          "text": [
            "table_id: reby-cloud.temp_eu.delete_cardpayins\n"
          ],
          "name": "stdout"
        },
        {
          "output_type": "stream",
          "text": [
            "/usr/local/lib/python3.7/dist-packages/google/cloud/bigquery/_pandas_helpers.py:275: UserWarning: Unable to determine type of column 'id'.\n",
            "  warnings.warn(u\"Unable to determine type of column '{}'.\".format(column))\n"
          ],
          "name": "stderr"
        },
        {
          "output_type": "execute_result",
          "data": {
            "application/vnd.google.colaboratory.intrinsic+json": {
              "type": "string"
            },
            "text/plain": [
              "'dataframe appended'"
            ]
          },
          "metadata": {
            "tags": []
          },
          "execution_count": 51
        }
      ]
    },
    {
      "cell_type": "code",
      "metadata": {
        "id": "b_Zq21R37KlU"
      },
      "source": [
        ""
      ],
      "execution_count": null,
      "outputs": []
    }
  ]
}