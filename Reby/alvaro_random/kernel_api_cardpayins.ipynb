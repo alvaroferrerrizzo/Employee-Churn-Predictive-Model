{
  "nbformat": 4,
  "nbformat_minor": 0,
  "metadata": {
    "colab": {
      "name": "kernal_api.ipynb",
      "provenance": [],
      "collapsed_sections": [],
      "include_colab_link": true
    },
    "kernelspec": {
      "display_name": "Python 3",
      "language": "python",
      "name": "python3"
    },
    "language_info": {
      "codemirror_mode": {
        "name": "ipython",
        "version": 3
      },
      "file_extension": ".py",
      "mimetype": "text/x-python",
      "name": "python",
      "nbconvert_exporter": "python",
      "pygments_lexer": "ipython3",
      "version": "3.9.1"
    }
  },
  "cells": [
    {
      "cell_type": "markdown",
      "metadata": {
        "id": "view-in-github",
        "colab_type": "text"
      },
      "source": [
        "<a href=\"https://colab.research.google.com/github/alvaroferrerrizzo/Employee-Churn-Predictive-Model/blob/master/Reby/alvaro_random/kernel_api_cardpayins.ipynb\" target=\"_parent\"><img src=\"https://colab.research.google.com/assets/colab-badge.svg\" alt=\"Open In Colab\"/></a>"
      ]
    },
    {
      "cell_type": "code",
      "metadata": {
        "id": "KM8KlOQ4O6A9"
      },
      "source": [
        "import json\n",
        "import pandas as pd\n",
        "import requests\n",
        "import time\n",
        "import os\n",
        "import datetime\n",
        "from google.cloud import bigquery\n",
        "import re"
      ],
      "execution_count": 4,
      "outputs": []
    },
    {
      "cell_type": "code",
      "metadata": {
        "id": "Ixwr5bj5PJh0"
      },
      "source": [
        "cos = ['reby','oiz','avant','tucycle','iberscot','reby_spain','reby_italy']\n",
        "cos_ids = ['acc_3rjqcmjjct5qey8tstf1','acc_3rjqcudcqm5817xsldx1',\n",
        "           'acc_3rjqcqpfc144km6bdch1','acc_3rjqcs9fnxk3la3zp5yh',\n",
        "           'acc_3rjqctd816yhqq7ufj81','acc_3su61k4l3n61dfmsgrah',\n",
        "           'acc_3su61kkje19lqp9a728h']"
      ],
      "execution_count": 1,
      "outputs": []
    },
    {
      "cell_type": "code",
      "metadata": {
        "id": "9_lnJKGx7KlL"
      },
      "source": [
        "#os.environ[\"GOOGLE_APPLICATION_CREDENTIALS\"]=\"reby-cloud.json\""
      ],
      "execution_count": null,
      "outputs": []
    },
    {
      "cell_type": "code",
      "metadata": {
        "id": "VnubRl2H889c"
      },
      "source": [
        "def send_to_bigquery(df,dataset,table):\n",
        "\t#client = bigquery.Client(project = 'reby-cloud')\n",
        "\ttable_id = 'reby-cloud.'+dataset+'.'+table\n",
        "\tprint('table_id: {}'.format(table_id))\n",
        "\t#print(df)\n",
        "\tjob_config = bigquery.LoadJobConfig()\n",
        "\t#job_config.schema_autodetect = True\n",
        "\tjob_config.write_disposition = 'WRITE_TRUNCATE'\n",
        "\tjob_config.create_disposition = 'CREATE_IF_NEEDED'\n",
        "\tjob = client.load_table_from_dataframe(df, table_id,job_config=job_config)\n",
        "\t# Wait for the load job to complete.\n",
        "\tresult = job.result()\n",
        "\t#print(result)\n",
        "\treturn 'dataframe appended'"
      ],
      "execution_count": null,
      "outputs": []
    },
    {
      "cell_type": "code",
      "metadata": {
        "id": "RKVzDXzu45Sq"
      },
      "source": [
        "\"\"\"\n",
        "client = bigquery.Client(project = 'reby-cloud')\n",
        "#get the dataframe with the last update from bigquery\n",
        "df_last_update = client.query('''\n",
        "    select\n",
        "    company as relevant_company,\n",
        "    max(ts) as max_ts\n",
        "\tfrom (\n",
        "\n",
        "\tselect \n",
        "\t\tcompany,\n",
        "\t\ttimestamp(regexp_extract(created_at_main, r\"\\d{4}-\\d{2}-\\d{2}T\\d{2}:\\d{2}:\\d{2}.\\d{4}\")) as ts\n",
        "\tfrom `reby-cloud.kernel_eu.bank_payout_list`\n",
        "\n",
        "\tunion all \n",
        "\n",
        "\tselect \n",
        "\t\tcompany,\n",
        "\t\ttimestamp(regexp_extract(created_at_main, r\"\\d{4}-\\d{2}-\\d{2}T\\d{2}:\\d{2}:\\d{2}.\\d{4}\")) as ts\n",
        "\tfrom `reby-cloud.kernel_eu.transfer_list`\n",
        "\n",
        "\tunion all \n",
        "\n",
        "\tselect \n",
        "\t\tcompany,\n",
        "\t\ttimestamp(regexp_extract(created_at_main, r\"\\d{4}-\\d{2}-\\d{2}T\\d{2}:\\d{2}:\\d{2}.\\d{4}\")) as ts\n",
        "\tfrom `reby-cloud.kernel_eu.bank_payout_list`\n",
        "\t)\n",
        "\tgroup by 1\n",
        "''' ).to_dataframe()\n",
        "\n",
        "df_last_update['max_ts'] = df_last_update['max_ts'].apply(lambda x: x.replace(tzinfo=None))\n",
        "\"\"\""
      ],
      "execution_count": null,
      "outputs": []
    },
    {
      "cell_type": "code",
      "metadata": {
        "colab": {
          "base_uri": "https://localhost:8080/"
        },
        "id": "cWiwt8Hx5QBo",
        "outputId": "259771a2-4bd8-421d-fc16-7ac82c905ac9"
      },
      "source": [
        "response_json['data'][0]"
      ],
      "execution_count": 37,
      "outputs": [
        {
          "output_type": "execute_result",
          "data": {
            "text/plain": [
              "{'account_id': 'acc_3su61kkje19lqp9a728h',\n",
              " 'authentication_redirect_url': 'https://api.reby.co/v2/webhooks/kernelpay/paymentdone/c_3qteetfhxjshx4j54111',\n",
              " 'authentication_type': 'three_d_secure_2',\n",
              " 'authentication_url': '',\n",
              " 'calculated_statement_descriptor': 'EP* Reby',\n",
              " 'card_id': 'crd_3t3p4hzl5xbpze4hyzkh',\n",
              " 'card_info': {'bank': None,\n",
              "  'brand': 'MasterCard',\n",
              "  'country': 'GB',\n",
              "  'expiration_month': 5,\n",
              "  'expiration_year': 2025,\n",
              "  'fingerprint': 'C3GMH6AI/1ZOoJiO',\n",
              "  'first6': '535584',\n",
              "  'funding': 'debit',\n",
              "  'number': '535584******9541'},\n",
              " 'configure_offline_card': None,\n",
              " 'created_at': '2021-07-09T12:50:01.819234304Z',\n",
              " 'decline_code': None,\n",
              " 'id': 'cpi_3t931mgktmzju6hykczh',\n",
              " 'meta': {'_redsys_error_code': '0000',\n",
              "  'company_id': 'c_3qteetfhxjshx4j54111',\n",
              "  'top_up_id': 'to_3t931mgj7vzf1tdyf3kh',\n",
              "  'transaction_id': 'tx_3t931mgj7xhpnmsvglb1',\n",
              "  'transaction_type': 'pre_ride_charge',\n",
              "  'user_id': 'usr_3t3p47vfeb4ksvmd7ya1',\n",
              "  'user_session_id': 'sess_3t4782ypjcsvd56hsy7h'},\n",
              " 'offline': True,\n",
              " 'project_id': 'prj_3rhmr1vp8xcnxvfktus1',\n",
              " 'refunded_value': {'amount': 0, 'currency': 'EUR'},\n",
              " 'sca_card_id': None,\n",
              " 'state': 'authorized',\n",
              " 'transaction_id': None,\n",
              " 'updated_at': '2021-07-09T12:50:03.077334Z',\n",
              " 'value': {'amount': 50, 'currency': 'EUR'}}"
            ]
          },
          "metadata": {
            "tags": []
          },
          "execution_count": 37
        }
      ]
    },
    {
      "cell_type": "code",
      "metadata": {
        "id": "cuM0LN9PFTCR",
        "outputId": "5085e2a7-4886-47ab-8a64-d45ebde1378a",
        "colab": {
          "base_uri": "https://localhost:8080/"
        }
      },
      "source": [
        "auth_token='live-mob_secretkey_3san8rtxkt5ezlbz34m1_43c759a649130e2512e45d8a071d15c8904b391bd808b5a2'\n",
        "hed = {'Authorization': 'Bearer ' + auth_token}\n",
        "final_json = []\n",
        "url_main = 'https://api.kernelpay.com/v1'\n",
        "\n",
        "#account_id = 'acc_3rjqcudcqm5817xsldx1'\n",
        "url_cardpayin_tx = url_main+'/card_payins?limit=10'\n",
        "\n",
        "print(url_cardpayin_tx)\n",
        "\n",
        "#url = 'https://api.kernelpay.com/v1/accounts/acc_3rjqcudcqm5817xsldx1/transactions?expand=transfer'\n",
        "#url_next = 'https://api.kernelpay.com/v1/accounts/acc_3rjqcudcqm5817xsldx1/transactions?expand=transfer'\n",
        "\n",
        "response = requests.get(url_cardpayin_tx\n",
        "                        , headers=hed)\n",
        "#print(response)\n",
        "#print(response.json())\n",
        "response_json = response.json()\n",
        "\n",
        "#response_json['created_at']"
      ],
      "execution_count": 31,
      "outputs": [
        {
          "output_type": "stream",
          "text": [
            "https://api.kernelpay.com/v1/card_payins?limit=10\n"
          ],
          "name": "stdout"
        }
      ]
    },
    {
      "cell_type": "code",
      "metadata": {
        "id": "QZuc2uDbRk68",
        "outputId": "e0997001-62f2-4b18-955c-6d8ca9d3d114",
        "colab": {
          "base_uri": "https://localhost:8080/"
        }
      },
      "source": [
        "len(response_json)\n",
        "response_json.keys()"
      ],
      "execution_count": 32,
      "outputs": [
        {
          "output_type": "execute_result",
          "data": {
            "text/plain": [
              "dict_keys(['data', 'has_next', 'cursor_next'])"
            ]
          },
          "metadata": {
            "tags": []
          },
          "execution_count": 32
        }
      ]
    },
    {
      "cell_type": "code",
      "metadata": {
        "id": "l3qpppfxSfV6",
        "outputId": "5547ce09-c4f9-4a97-d62b-bafd055a3e30",
        "colab": {
          "base_uri": "https://localhost:8080/"
        }
      },
      "source": [
        "len(response_json['data'])"
      ],
      "execution_count": 30,
      "outputs": [
        {
          "output_type": "execute_result",
          "data": {
            "text/plain": [
              "10"
            ]
          },
          "metadata": {
            "tags": []
          },
          "execution_count": 30
        }
      ]
    },
    {
      "cell_type": "code",
      "metadata": {
        "id": "6HqwL9N9RZIV"
      },
      "source": [
        "cursor_next = response_json.get('cursor_next')\n",
        "has_next = str(response_json.get('has_next'))"
      ],
      "execution_count": 16,
      "outputs": []
    },
    {
      "cell_type": "code",
      "metadata": {
        "id": "GTXuOXoWR-j0",
        "outputId": "1640060a-8d14-4c72-c78b-373d6a4068b9",
        "colab": {
          "base_uri": "https://localhost:8080/"
        }
      },
      "source": [
        "print(response_json['has_next'])"
      ],
      "execution_count": 21,
      "outputs": [
        {
          "output_type": "stream",
          "text": [
            "True\n"
          ],
          "name": "stdout"
        }
      ]
    },
    {
      "cell_type": "code",
      "metadata": {
        "id": "NXxIFhePUxTE"
      },
      "source": [
        "i=0\n",
        "has_next = 'True'\n",
        "continue_ = 'True'\n",
        "\n",
        "\n",
        "while has_next == 'True' and continue_ == 'True' and i<30:# and i<=60:\n",
        "#print( \"i counter {}\".format(i))\n",
        "    if i == 0:\n",
        "        fetch_url = url_account_tx\n",
        "    elif i>0:\n",
        "        fetch_url = url_cardpayin_tx+'&cursor='+cursor_next\n",
        "\n",
        "    response = requests.get(fetch_url, headers=hed)\n",
        "    response_json = response.json()\n",
        "    \n",
        "    for j in range(len(response_json['data'])):\n",
        "\n",
        "        api_pinged_at = \n",
        "        created_at =\n",
        "        id\n",
        "        authentication_type\n",
        "        account_id = None\n",
        "        card_id = \n",
        "        card_info_bank = None\n",
        "        card_info_brand\n",
        "        card_info_country\n",
        "        card_info_funding\n",
        "        decline_code\n",
        "        configure_offline_card\n",
        "        meta_redsys_error_code\n",
        "        meta_company_id\n",
        "        meta_top_up_id\n",
        "        meta_transaction_id\n",
        "        meta_user_id\n",
        "        meta_transaction_type\n",
        "\n",
        "        i = i + 1\n",
        "        time.sleep(0.1)\n",
        "\n",
        "\"\"\"\n",
        "{'account_id': 'acc_3su61kkje19lqp9a728h',\n",
        " 'authentication_redirect_url': 'https://api.reby.co/v2/webhooks/kernelpay/paymentdone/c_3qteetfhxjshx4j54111',\n",
        " 'authentication_type': 'three_d_secure_2',\n",
        " 'authentication_url': '',\n",
        " 'calculated_statement_descriptor': 'EP* Reby',\n",
        " 'card_id': 'crd_3t3p4hzl5xbpze4hyzkh',\n",
        " 'card_info': {'bank': None,\n",
        "  'brand': 'MasterCard',\n",
        "  'country': 'GB',\n",
        "  'expiration_month': 5,\n",
        "  'expiration_year': 2025,\n",
        "  'fingerprint': 'C3GMH6AI/1ZOoJiO',\n",
        "  'first6': '535584',\n",
        "  'funding': 'debit',\n",
        "  'number': '535584******9541'},\n",
        " 'configure_offline_card': None,\n",
        " 'created_at': '2021-07-09T12:50:01.819234304Z',\n",
        " 'decline_code': None,\n",
        " 'id': 'cpi_3t931mgktmzju6hykczh',\n",
        " 'meta': {'_redsys_error_code': '0000',\n",
        "  'company_id': 'c_3qteetfhxjshx4j54111',\n",
        "  'top_up_id': 'to_3t931mgj7vzf1tdyf3kh',\n",
        "  'transaction_id': 'tx_3t931mgj7xhpnmsvglb1',\n",
        "  'transaction_type': 'pre_ride_charge',\n",
        "  'user_id': 'usr_3t3p47vfeb4ksvmd7ya1',\n",
        "  'user_session_id': 'sess_3t4782ypjcsvd56hsy7h'},\n",
        " 'offline': True,\n",
        " 'project_id': 'prj_3rhmr1vp8xcnxvfktus1',\n",
        " 'refunded_value': {'amount': 0, 'currency': 'EUR'},\n",
        " 'sca_card_id': None,\n",
        " 'state': 'authorized',\n",
        " 'transaction_id': None,\n",
        " 'updated_at': '2021-07-09T12:50:03.077334Z',\n",
        " 'value': {'amount': 50, 'currency': 'EUR'}}\n",
        "\"\"\""
      ],
      "execution_count": null,
      "outputs": []
    },
    {
      "cell_type": "code",
      "metadata": {
        "id": "_TMtzjJ0Er1W"
      },
      "source": [
        "#Bearer live_secretkey_3m9khmufqsgct1llddu1_13383aeb28127115180a92bac880957cc6faa71936b44529\n",
        "\n",
        "auth_token='live-mob_secretkey_3san8rtxkt5ezlbz34m1_43c759a649130e2512e45d8a071d15c8904b391bd808b5a2'\n",
        "hed = {'Authorization': 'Bearer ' + auth_token}\n",
        "\n",
        "url_main = 'https://api.kernelpay.com/v1'\n",
        "\n",
        "transfer_list = []\n",
        "cardpayin_list = []\n",
        "bankpayout_list = []\n",
        "error_list = []\n",
        "\n",
        "def fetch_kernel_data(event, context):\n",
        "\t#-------\n",
        "\t#fetch data from kernel and upload it to bigquery\n",
        "\t#-------\n",
        "\tfor company,account_id in zip(cos,cos_ids):\n",
        "\t\t#Get the last timestamp available for that company\n",
        "\t\tmask = df_last_update['relevant_company'] == company\n",
        "\t\tcompany_data = df_last_update[mask]\n",
        "\t\tlast_timestamp_company_bigquery = company_data.max_ts\n",
        "\t\t#print(f'last timestamp bigquery {last_timestamp_company_bigquery} for {company}')\n",
        "\t\t#------\n",
        "\n",
        "\t\tprint(company)\n",
        "\t\tprint(account_id)\n",
        "\t\n",
        "\t\t#set core url\n",
        "\t\turl_account_tx = url_main+'/accounts/'+account_id+'/transactions?expand=transfer,card_payin&limit=50'\n",
        "\t\ti=0\n",
        "\t\thas_next = 'True'\n",
        "\t\tcontinue_ = 'True'\n",
        "\t\t\n",
        "\t\twhile has_next == 'True' and continue_ == 'True':# and i<=60:\n",
        "\t\t\n",
        "\t\t#print( \"i counter {}\".format(i))\n",
        "\t\t\tif i == 0:\n",
        "\t\t\t\tfetch_url = url_account_tx\n",
        "\t\t\telif i>0:\n",
        "\t\t\t\tfetch_url = url_account_tx+'&cursor='+cursor_next\n",
        "\n",
        "\t\t\tresponse = requests.get(fetch_url, headers=hed)\n",
        "\t\t\tresponse_json = response.json()\n",
        "\t\t\t\n",
        "\t\t\tfor j in range(len(response_json['data'])):\n",
        "\t\t\t\t\n",
        "\t\t\t\t#reset variables\n",
        "\t\t\t\t#-----\n",
        "\t\t\t\tid = None\n",
        "\t\t\t\tamount = None\n",
        "\t\t\t\tcurrency = None\n",
        "\t\t\t\ttype_main = None\n",
        "\t\t\t\tcreated_at = None\n",
        "\t\t\t\tdestination_account_id = None\n",
        "\t\t\t\tdestination_transaction_id = None\n",
        "\t\t\t\ttransfer_id = None\n",
        "\t\t\t\tsource_account_id = None\n",
        "\t\t\t\tsource_transaction_id = None\n",
        "\t\t\t\ttype_meta = None\n",
        "\t\t\t\tcard_payin_id = None\n",
        "\t\t\t\tcard_payin_refund_id = None\n",
        "\t\t\t\trefunded_value = None\n",
        "\t\t\t\ttransaction_id_meta = None\n",
        "\t\t\t\t#-----\n",
        "\t\t\t\t#print(\"type - {}\".format(response_json['data'][0]['type']))\n",
        "\n",
        "\t\t\t\ttry:\n",
        "\t\t\t\t\tid = response_json['data'][j]['id']\n",
        "\t\t\t\t\tamount = response_json['data'][j]['value']['amount']\n",
        "\t\t\t\t\tcurrency = response_json['data'][j]['value']['currency']\n",
        "\t\t\t\t\ttype_main = response_json['data'][j]['type']\n",
        "\t\t\t\t\tcreated_at_main = response_json['data'][j]['created_at']\n",
        "\n",
        "\t\t\t\t\tif type_main == 'transfer_destination' or type_main == 'transfer_source':\n",
        "\t\t\t\t\t\tcreated_at = response_json['data'][j]['transfer']['created_at']\n",
        "\t\t\t\t\t\tdestination_account_id = response_json['data'][j]['transfer']['destination_account_id']\n",
        "\t\t\t\t\t\tdestination_transaction_id = response_json['data'][j]['transfer']['destination_transaction_id']\n",
        "\t\t\t\t\t\ttransfer_id = response_json['data'][j]['transfer']['id']\n",
        "\t\t\t\t\t\tsource_account_id = response_json['data'][j]['transfer']['source_account_id']\n",
        "\t\t\t\t\t\tsource_transaction_id = response_json['data'][j]['transfer']['source_transaction_id']\n",
        "\t\t\t\t\t\ttry:\n",
        "\t\t\t\t\t\t\ttype_meta = response_json['data'][j]['transfer']['meta']['transaction_type']\n",
        "\t\t\t\t\t\texcept:\n",
        "\t\t\t\t\t\t\ttype_meta = 'not_available'\n",
        "\t\t\t\t\t\ttry:\n",
        "\t\t\t\t\t\t\tbackend_account_id = response_json['data'][j]['transfer']['meta']['backend_account_id']\n",
        "\t\t\t\t\t\texcept:\n",
        "\t\t\t\t\t\t\tbackend_account_id = None\n",
        "\t\t\t\t\t\t\t\n",
        "\t\t\t\t\t\ttransfer_list.append([company,id,created_at,created_at_main,destination_account_id\n",
        "\t\t\t\t\t\t\t\t\t\t,destination_transaction_id, transfer_id, source_account_id, \n",
        "\t\t\t\t\t\t\t\t\t\tsource_transaction_id, amount, currency, type_main, type_meta, backend_account_id])\n",
        "\t\t\t\t\t\t#i = i + 1\n",
        "\t\t\t\t\t\t#print(\"success\")\n",
        "\n",
        "\t\t\t\t\telif type_main in ['card_payin','card_payin_refund','card_payin_dispute',\n",
        "                                    'card_payin_dispute_refund','card_payin_dispute_lost']:\n",
        "                            \n",
        "\t\t\t\t\t\tcreated_at = response_json['data'][j]['card_payin']['created_at']\n",
        "\t\t\t\t\t\tdestination_account_id = response_json['data'][j]['account_id']\n",
        "\t\t\t\t\t\tcard_payin_id = response_json['data'][j]['card_payin_id']\n",
        "\t\t\t\t\t\tcard_payin_refund_id = response_json['data'][j]['card_payin_refund_id']\n",
        "\t\t\t\t\t\trefunded_value = response_json['data'][j]['card_payin']['refunded_value']['amount']\n",
        "\t\t\t\t\t\t\n",
        "\t\t\t\t\t\ttry:\n",
        "\t\t\t\t\t\t\ttype_meta = response_json['data'][j]['card_payin']['meta']['transaction_type']\n",
        "\t\t\t\t\t\texcept:\n",
        "\t\t\t\t\t\t\ttype_meta = 'not_available'\n",
        "\n",
        "\t\t\t\t\t\ttry:\n",
        "\t\t\t\t\t\t\ttransaction_id_meta = response_json['data'][j]['card_payin']['meta']['transaction_id']\n",
        "\t\t\t\t\t\texcept:\n",
        "\t\t\t\t\t\t\ttransaction_id_meta = None\n",
        "\n",
        "\t\t\t\t\t\ttry:\n",
        "\t\t\t\t\t\t\ttop_up_id = response_json['data'][j]['card_payin']['meta']['top_up_id']\n",
        "\t\t\t\t\t\texcept:\n",
        "\t\t\t\t\t\t\ttop_up_id = None\n",
        "\t\t\t\t\t\t\n",
        "\t\t\t\t\t\t#user_id = response_json['data'][0]['card_payin']['meta']['user_id']\n",
        "\n",
        "\n",
        "\t\t\t\t\t\tcardpayin_list.append([company,id,created_at,created_at_main,destination_account_id,\n",
        "\t\t\t\t\t\t\t\t\t\t\t\tamount, currency, type_main, type_meta, card_payin_id,\n",
        "\t\t\t\t\t\t\t\t\t\t\t\tcard_payin_refund_id,transaction_id_meta,refunded_value, top_up_id])\n",
        "\t\t\t\t\t\t#i = i + 1\n",
        "\t\t\t\t\t\t#print(\"success\")\n",
        "\n",
        "\t\t\t\t\telif type_main == 'bank_payout':\n",
        "\n",
        "\t\t\t\t\t\tbankpayout_list.append([company,id,amount,currency,type_main,created_at_main])\n",
        "\t\t\t\t\t\t#i = i + 1\n",
        "\n",
        "\t\t\t\t\telse:\n",
        "\t\t\t\t\t\tid = response_json['data'][j]['id']\n",
        "\t\t\t\t\t\tamount = response_json['data'][j]['value']['amount']\n",
        "\t\t\t\t\t\ttype_main = response_json['data'][j]['type']\n",
        "\t\t\t\t\t\terror_list.append([company,id,amount,type_main,'unknown_type'])\n",
        "\t\t\t\t\t\tprint(\"here\")\n",
        "\n",
        "\t\t\t\texcept Exception as e:\n",
        "\t\t\t\t\tid = response_json['data'][j]['id']\n",
        "\t\t\t\t\tamount = response_json['data'][j]['value']['amount']\n",
        "\t\t\t\t\ttype_main = response_json['data'][j]['type']\n",
        "\t\t\t\t\terror_list.append([company,id,amount,type_main,e])\n",
        "\t\t\t\t\t#print(response_json)\n",
        "\t\t\t\t\t#i = i + 1\n",
        "\t\t\t\t\t#print(\"error\")\n",
        "\t\t\t\t\tprint(\"here2\")\n",
        "\t\t\t\t\t#print(type_main)\n",
        "\t\t\t\t\t#print(id)\n",
        "\n",
        "\t\t\tcreated_at_str = created_at_main\n",
        "\t\t\ttimestamp_regex = re.findall(\n",
        "\t\t\t\t\t\tr\"\\d{4}-\\d{1,2}-\\d{1,2}T\\d{1,2}:\\d{1,2}:\\d{1,2}.\\d{1,5}\",created_at_str)\n",
        "\t\t\tcreated_at_regex_unique = timestamp_regex[0]\n",
        "\t\t\tcreated_at_formatted = datetime.datetime.strptime(created_at_regex_unique, '%Y-%m-%dT%H:%M:%S.%f')\n",
        "\t\t\t\n",
        "\n",
        "\t\t\tif company_data.empty:\n",
        "\t\t\t\tcontinue_ = 'True'\n",
        "\n",
        "\t\t\telif created_at_formatted and created_at_formatted >  last_timestamp_company_bigquery.item():\n",
        "\t\t\t\t#print(f'last created_at in kernel batch: {created_at_formatted}')\n",
        "\t\t\t\t#print(f'last created_at  in bigquery: {last_timestamp_company_bigquery.item()}')\n",
        "\t\t\t\tcontinue_ = 'True'\n",
        "\t\t\telse:\n",
        "\t\t\t\t#print(f'last created_at in kernel batch: {created_at_formatted}')\n",
        "\t\t\t\t#print(f'last created_at in bigquery: {last_timestamp_company_bigquery.item()}')\n",
        "\t\t\t\tcontinue_ = 'False'\n",
        "\n",
        "\t\t\tcursor_next = response_json.get('cursor_next')\n",
        "\t\t\thas_next = str(response_json.get('has_next'))\n",
        "\t\t\t#print(\"cursor_next {}\".format(cursor_next))\n",
        "\t\t\t#print(f'hast next: {has_next}')\n",
        "\t\t\t#print(f'continue: {continue_}')\n",
        "\t\t\ti = i + 1\n",
        "\t\t\ttime.sleep(0.1)\n",
        "\treturn bankpayout_list, cardpayin_list, transfer_list\n",
        "  \n",
        "bankpayout_list, cardpayin_list, transfer_list = fetch_kernel_data('a','b')"
      ],
      "execution_count": null,
      "outputs": []
    },
    {
      "cell_type": "code",
      "metadata": {
        "id": "zD6bgbl0P5QY",
        "colab": {
          "base_uri": "https://localhost:8080/"
        },
        "outputId": "4a896f60-34e7-48e5-8296-89a546b2c418"
      },
      "source": [
        "#Bearer live_secretkey_3m9khmufqsgct1llddu1_13383aeb28127115180a92bac880957cc6faa71936b44529\n",
        "\n",
        "auth_token='live-mob_secretkey_3san8rtxkt5ezlbz34m1_43c759a649130e2512e45d8a071d15c8904b391bd808b5a2'\n",
        "hed = {'Authorization': 'Bearer ' + auth_token}\n",
        "\n",
        "url_main = 'https://api.kernelpay.com/v1'\n",
        "\n",
        "transfer_list = []\n",
        "cardpayin_list = []\n",
        "bankpayout_list = []\n",
        "error_list = []\n",
        "\n",
        "def fetch_kernel_data(event, context):\n",
        "\t#-------\n",
        "\t#fetch data from kernel and upload it to bigquery\n",
        "\t#-------\n",
        "\tfor company,account_id in zip(cos,cos_ids):\n",
        "\t\t#Get the last timestamp available for that company\n",
        "\t\tmask = df_last_update['relevant_company'] == company\n",
        "\t\tcompany_data = df_last_update[mask]\n",
        "\t\tlast_timestamp_company_bigquery = company_data.max_ts\n",
        "\t\t#print(f'last timestamp bigquery {last_timestamp_company_bigquery} for {company}')\n",
        "\t\t#------\n",
        "\n",
        "\t\tprint(company)\n",
        "\t\tprint(account_id)\n",
        "\t\n",
        "\t\t#set core url\n",
        "\t\turl_account_tx = url_main+'/accounts/'+account_id+'/transactions?expand=transfer,card_payin&limit=50'\n",
        "\t\ti=0\n",
        "\t\thas_next = 'True'\n",
        "\t\tcontinue_ = 'True'\n",
        "\t\t\n",
        "\t\twhile has_next == 'True' and continue_ == 'True':# and i<=60:\n",
        "\t\t\n",
        "\t\t#print( \"i counter {}\".format(i))\n",
        "\t\t\tif i == 0:\n",
        "\t\t\t\tfetch_url = url_account_tx\n",
        "\t\t\telif i>0:\n",
        "\t\t\t\tfetch_url = url_account_tx+'&cursor='+cursor_next\n",
        "\n",
        "\t\t\tresponse = requests.get(fetch_url, headers=hed)\n",
        "\t\t\tresponse_json = response.json()\n",
        "\t\t\t\n",
        "\t\t\tfor j in range(len(response_json['data'])):\n",
        "\t\t\t\t\n",
        "\t\t\t\t#reset variables\n",
        "\t\t\t\t#-----\n",
        "\t\t\t\tid = None\n",
        "\t\t\t\tamount = None\n",
        "\t\t\t\tcurrency = None\n",
        "\t\t\t\ttype_main = None\n",
        "\t\t\t\tcreated_at = None\n",
        "\t\t\t\tdestination_account_id = None\n",
        "\t\t\t\tdestination_transaction_id = None\n",
        "\t\t\t\ttransfer_id = None\n",
        "\t\t\t\tsource_account_id = None\n",
        "\t\t\t\tsource_transaction_id = None\n",
        "\t\t\t\ttype_meta = None\n",
        "\t\t\t\tcard_payin_id = None\n",
        "\t\t\t\tcard_payin_refund_id = None\n",
        "\t\t\t\trefunded_value = None\n",
        "\t\t\t\ttransaction_id_meta = None\n",
        "\t\t\t\t#-----\n",
        "\t\t\t\t#print(\"type - {}\".format(response_json['data'][0]['type']))\n",
        "\n",
        "\t\t\t\ttry:\n",
        "\t\t\t\t\tid = response_json['data'][j]['id']\n",
        "\t\t\t\t\tamount = response_json['data'][j]['value']['amount']\n",
        "\t\t\t\t\tcurrency = response_json['data'][j]['value']['currency']\n",
        "\t\t\t\t\ttype_main = response_json['data'][j]['type']\n",
        "\t\t\t\t\tcreated_at_main = response_json['data'][j]['created_at']\n",
        "\n",
        "\t\t\t\t\tif type_main == 'transfer_destination' or type_main == 'transfer_source':\n",
        "\t\t\t\t\t\tcreated_at = response_json['data'][j]['transfer']['created_at']\n",
        "\t\t\t\t\t\tdestination_account_id = response_json['data'][j]['transfer']['destination_account_id']\n",
        "\t\t\t\t\t\tdestination_transaction_id = response_json['data'][j]['transfer']['destination_transaction_id']\n",
        "\t\t\t\t\t\ttransfer_id = response_json['data'][j]['transfer']['id']\n",
        "\t\t\t\t\t\tsource_account_id = response_json['data'][j]['transfer']['source_account_id']\n",
        "\t\t\t\t\t\tsource_transaction_id = response_json['data'][j]['transfer']['source_transaction_id']\n",
        "\t\t\t\t\t\ttry:\n",
        "\t\t\t\t\t\t\ttype_meta = response_json['data'][j]['transfer']['meta']['transaction_type']\n",
        "\t\t\t\t\t\texcept:\n",
        "\t\t\t\t\t\t\ttype_meta = 'not_available'\n",
        "\t\t\t\t\t\ttry:\n",
        "\t\t\t\t\t\t\tbackend_account_id = response_json['data'][j]['transfer']['meta']['backend_account_id']\n",
        "\t\t\t\t\t\texcept:\n",
        "\t\t\t\t\t\t\tbackend_account_id = None\n",
        "\t\t\t\t\t\t\t\n",
        "\t\t\t\t\t\ttransfer_list.append([company,id,created_at,created_at_main,destination_account_id\n",
        "\t\t\t\t\t\t\t\t\t\t,destination_transaction_id, transfer_id, source_account_id, \n",
        "\t\t\t\t\t\t\t\t\t\tsource_transaction_id, amount, currency, type_main, type_meta, backend_account_id])\n",
        "\t\t\t\t\t\t#i = i + 1\n",
        "\t\t\t\t\t\t#print(\"success\")\n",
        "\n",
        "\t\t\t\t\telif type_main in ['card_payin','card_payin_refund','card_payin_dispute',\n",
        "                                    'card_payin_dispute_refund','card_payin_dispute_lost']:\n",
        "                            \n",
        "\t\t\t\t\t\tcreated_at = response_json['data'][j]['card_payin']['created_at']\n",
        "\t\t\t\t\t\tdestination_account_id = response_json['data'][j]['account_id']\n",
        "\t\t\t\t\t\tcard_payin_id = response_json['data'][j]['card_payin_id']\n",
        "\t\t\t\t\t\tcard_payin_refund_id = response_json['data'][j]['card_payin_refund_id']\n",
        "\t\t\t\t\t\trefunded_value = response_json['data'][j]['card_payin']['refunded_value']['amount']\n",
        "\t\t\t\t\t\t\n",
        "\t\t\t\t\t\ttry:\n",
        "\t\t\t\t\t\t\ttype_meta = response_json['data'][j]['card_payin']['meta']['transaction_type']\n",
        "\t\t\t\t\t\texcept:\n",
        "\t\t\t\t\t\t\ttype_meta = 'not_available'\n",
        "\n",
        "\t\t\t\t\t\ttry:\n",
        "\t\t\t\t\t\t\ttransaction_id_meta = response_json['data'][j]['card_payin']['meta']['transaction_id']\n",
        "\t\t\t\t\t\texcept:\n",
        "\t\t\t\t\t\t\ttransaction_id_meta = None\n",
        "\n",
        "\t\t\t\t\t\ttry:\n",
        "\t\t\t\t\t\t\ttop_up_id = response_json['data'][j]['card_payin']['meta']['top_up_id']\n",
        "\t\t\t\t\t\texcept:\n",
        "\t\t\t\t\t\t\ttop_up_id = None\n",
        "\t\t\t\t\t\t\n",
        "\t\t\t\t\t\t#user_id = response_json['data'][0]['card_payin']['meta']['user_id']\n",
        "\n",
        "\n",
        "\t\t\t\t\t\tcardpayin_list.append([company,id,created_at,created_at_main,destination_account_id,\n",
        "\t\t\t\t\t\t\t\t\t\t\t\tamount, currency, type_main, type_meta, card_payin_id,\n",
        "\t\t\t\t\t\t\t\t\t\t\t\tcard_payin_refund_id,transaction_id_meta,refunded_value, top_up_id])\n",
        "\t\t\t\t\t\t#i = i + 1\n",
        "\t\t\t\t\t\t#print(\"success\")\n",
        "\n",
        "\t\t\t\t\telif type_main == 'bank_payout':\n",
        "\n",
        "\t\t\t\t\t\tbankpayout_list.append([company,id,amount,currency,type_main,created_at_main])\n",
        "\t\t\t\t\t\t#i = i + 1\n",
        "\n",
        "\t\t\t\t\telse:\n",
        "\t\t\t\t\t\tid = response_json['data'][j]['id']\n",
        "\t\t\t\t\t\tamount = response_json['data'][j]['value']['amount']\n",
        "\t\t\t\t\t\ttype_main = response_json['data'][j]['type']\n",
        "\t\t\t\t\t\terror_list.append([company,id,amount,type_main,'unknown_type'])\n",
        "\t\t\t\t\t\tprint(\"here\")\n",
        "\n",
        "\t\t\t\texcept Exception as e:\n",
        "\t\t\t\t\tid = response_json['data'][j]['id']\n",
        "\t\t\t\t\tamount = response_json['data'][j]['value']['amount']\n",
        "\t\t\t\t\ttype_main = response_json['data'][j]['type']\n",
        "\t\t\t\t\terror_list.append([company,id,amount,type_main,e])\n",
        "\t\t\t\t\t#print(response_json)\n",
        "\t\t\t\t\t#i = i + 1\n",
        "\t\t\t\t\t#print(\"error\")\n",
        "\t\t\t\t\tprint(\"here2\")\n",
        "\t\t\t\t\t#print(type_main)\n",
        "\t\t\t\t\t#print(id)\n",
        "\n",
        "\t\t\tcreated_at_str = created_at_main\n",
        "\t\t\ttimestamp_regex = re.findall(\n",
        "\t\t\t\t\t\tr\"\\d{4}-\\d{1,2}-\\d{1,2}T\\d{1,2}:\\d{1,2}:\\d{1,2}.\\d{1,5}\",created_at_str)\n",
        "\t\t\tcreated_at_regex_unique = timestamp_regex[0]\n",
        "\t\t\tcreated_at_formatted = datetime.datetime.strptime(created_at_regex_unique, '%Y-%m-%dT%H:%M:%S.%f')\n",
        "\t\t\t\n",
        "\n",
        "\t\t\tif company_data.empty:\n",
        "\t\t\t\tcontinue_ = 'True'\n",
        "\n",
        "\t\t\telif created_at_formatted and created_at_formatted >  last_timestamp_company_bigquery.item():\n",
        "\t\t\t\t#print(f'last created_at in kernel batch: {created_at_formatted}')\n",
        "\t\t\t\t#print(f'last created_at  in bigquery: {last_timestamp_company_bigquery.item()}')\n",
        "\t\t\t\tcontinue_ = 'True'\n",
        "\t\t\telse:\n",
        "\t\t\t\t#print(f'last created_at in kernel batch: {created_at_formatted}')\n",
        "\t\t\t\t#print(f'last created_at in bigquery: {last_timestamp_company_bigquery.item()}')\n",
        "\t\t\t\tcontinue_ = 'False'\n",
        "\n",
        "\t\t\tcursor_next = response_json.get('cursor_next')\n",
        "\t\t\thas_next = str(response_json.get('has_next'))\n",
        "\t\t\t#print(\"cursor_next {}\".format(cursor_next))\n",
        "\t\t\t#print(f'hast next: {has_next}')\n",
        "\t\t\t#print(f'continue: {continue_}')\n",
        "\t\t\ti = i + 1\n",
        "\t\t\ttime.sleep(0.1)\n",
        "\treturn bankpayout_list, cardpayin_list, transfer_list\n",
        "  \n",
        "bankpayout_list, cardpayin_list, transfer_list = fetch_kernel_data('a','b')"
      ],
      "execution_count": null,
      "outputs": [
        {
          "output_type": "stream",
          "text": [
            "last timestamp bigquery 0   2021-06-06 06:01:04.867600\n",
            "Name: max_ts, dtype: datetime64[ns] for reby\n",
            "reby\n",
            "acc_3rjqcmjjct5qey8tstf1\n",
            "last created_at in kernel batch: 2021-06-06 06:01:04.867610\n",
            "last created_at  in bigquery: 2021-06-06 06:01:04.867600\n",
            "last created_at in bigquery: 2021-06-06 06:01:04.867600\n",
            "last timestamp bigquery 1   2021-06-06 22:28:31.094200\n",
            "Name: max_ts, dtype: datetime64[ns] for oiz\n",
            "oiz\n",
            "acc_3rjqcudcqm5817xsldx1\n",
            "last created_at in bigquery: 2021-06-06 22:28:31.094200\n",
            "last timestamp bigquery 2   2021-06-06 19:19:29.408200\n",
            "Name: max_ts, dtype: datetime64[ns] for avant\n",
            "avant\n",
            "acc_3rjqcqpfc144km6bdch1\n",
            "last created_at in bigquery: 2021-06-06 19:19:29.408200\n",
            "last timestamp bigquery 3   2021-06-06 16:15:48.924100\n",
            "Name: max_ts, dtype: datetime64[ns] for tucycle\n",
            "tucycle\n",
            "acc_3rjqcs9fnxk3la3zp5yh\n",
            "last created_at in bigquery: 2021-06-06 16:15:48.924100\n",
            "last timestamp bigquery 4   2021-06-06 22:32:15.514400\n",
            "Name: max_ts, dtype: datetime64[ns] for iberscot\n",
            "iberscot\n",
            "acc_3rjqctd816yhqq7ufj81\n",
            "last created_at in bigquery: 2021-06-06 22:32:15.514400\n",
            "last timestamp bigquery Series([], Name: max_ts, dtype: datetime64[ns]) for reby_spain\n",
            "reby_spain\n",
            "acc_3su61k4l3n61dfmsgrah\n",
            "last timestamp bigquery Series([], Name: max_ts, dtype: datetime64[ns]) for reby_italy\n",
            "reby_italy\n",
            "acc_3su61kkje19lqp9a728h\n"
          ],
          "name": "stdout"
        }
      ]
    },
    {
      "cell_type": "code",
      "metadata": {
        "id": "P5dZmTZLU_Do"
      },
      "source": [
        "transfer_list_df = pd.DataFrame(transfer_list)\n",
        "if len(transfer_list) >  0:\n",
        "    transfer_list_df.columns = ['company','id','created_at','created_at_main','destination_account_id'\n",
        "                            ,'destination_transaction_id', 'transfer_id', 'source_account_id', \n",
        "                            'source_transaction_id', 'amount', 'currency', 'type_main', 'type_meta','backend_account_id']\n",
        "    \n",
        "\n",
        "cardpayin_list_df = pd.DataFrame(cardpayin_list)\n",
        "if len(cardpayin_list) >  0:\n",
        "    cardpayin_list_df.columns = ['company','id','created_at','created_at_main','destination_account_id',\n",
        "                                          'amount', 'currency', 'type_main', 'type_meta', 'card_payin_id',\n",
        "                                 'card_payin_refund_id','transaction_id_meta','refunded_value','top_up_id']\n",
        "\n",
        "bankpayout_list_df = pd.DataFrame(bankpayout_list)\n",
        "if len(bankpayout_list) >  0:\n",
        "    bankpayout_list_df.columns = ['company','id','amount','currency','type_main','created_at_main']\n",
        "\n",
        "error_list_df = pd.DataFrame(error_list)\n",
        "if len(error_list) >  0:\n",
        "    error_list_df.columns = ['company','error_ids','amount','type','reason']\n"
      ],
      "execution_count": null,
      "outputs": []
    },
    {
      "cell_type": "code",
      "metadata": {
        "colab": {
          "base_uri": "https://localhost:8080/",
          "height": 31
        },
        "id": "bax1hNho7KlR",
        "outputId": "a29a9b58-fec1-471b-9b1a-32a5040f82b8"
      },
      "source": [
        "error_list_df.head(20)"
      ],
      "execution_count": null,
      "outputs": [
        {
          "output_type": "execute_result",
          "data": {
            "text/html": [
              "<div>\n",
              "<style scoped>\n",
              "    .dataframe tbody tr th:only-of-type {\n",
              "        vertical-align: middle;\n",
              "    }\n",
              "\n",
              "    .dataframe tbody tr th {\n",
              "        vertical-align: top;\n",
              "    }\n",
              "\n",
              "    .dataframe thead th {\n",
              "        text-align: right;\n",
              "    }\n",
              "</style>\n",
              "<table border=\"1\" class=\"dataframe\">\n",
              "  <thead>\n",
              "    <tr style=\"text-align: right;\">\n",
              "      <th></th>\n",
              "    </tr>\n",
              "  </thead>\n",
              "  <tbody>\n",
              "  </tbody>\n",
              "</table>\n",
              "</div>"
            ],
            "text/plain": [
              "Empty DataFrame\n",
              "Columns: []\n",
              "Index: []"
            ]
          },
          "metadata": {
            "tags": []
          },
          "execution_count": 21
        }
      ]
    },
    {
      "cell_type": "code",
      "metadata": {
        "colab": {
          "base_uri": "https://localhost:8080/",
          "height": 347
        },
        "id": "quSTGHVvuqtf",
        "outputId": "628ece78-2ba7-4398-c1d4-12bb3a8e0eac"
      },
      "source": [
        "#transfer_list_df[transfer_list_df['type_main']=='card_payin_dispute_lost']\n",
        "cardpayin_list_df[cardpayin_list_df['type_main']=='card_payin_dispute_lost']"
      ],
      "execution_count": null,
      "outputs": [
        {
          "output_type": "execute_result",
          "data": {
            "text/html": [
              "<div>\n",
              "<style scoped>\n",
              "    .dataframe tbody tr th:only-of-type {\n",
              "        vertical-align: middle;\n",
              "    }\n",
              "\n",
              "    .dataframe tbody tr th {\n",
              "        vertical-align: top;\n",
              "    }\n",
              "\n",
              "    .dataframe thead th {\n",
              "        text-align: right;\n",
              "    }\n",
              "</style>\n",
              "<table border=\"1\" class=\"dataframe\">\n",
              "  <thead>\n",
              "    <tr style=\"text-align: right;\">\n",
              "      <th></th>\n",
              "      <th>company</th>\n",
              "      <th>id</th>\n",
              "      <th>created_at</th>\n",
              "      <th>created_at_main</th>\n",
              "      <th>destination_account_id</th>\n",
              "      <th>amount</th>\n",
              "      <th>currency</th>\n",
              "      <th>type_main</th>\n",
              "      <th>type_meta</th>\n",
              "      <th>card_payin_id</th>\n",
              "      <th>card_payin_refund_id</th>\n",
              "      <th>transaction_id_meta</th>\n",
              "      <th>refunded_value</th>\n",
              "      <th>top_up_id</th>\n",
              "    </tr>\n",
              "  </thead>\n",
              "  <tbody>\n",
              "    <tr>\n",
              "      <th>111</th>\n",
              "      <td>avant</td>\n",
              "      <td>tx_3t3ngj4r4srqbys4h8y1</td>\n",
              "      <td>2021-03-18T13:34:16.968658944Z</td>\n",
              "      <td>2021-06-04T09:42:22.077370368Z</td>\n",
              "      <td>acc_3rjqcqpfc144km6bdch1</td>\n",
              "      <td>-6900</td>\n",
              "      <td>EUR</td>\n",
              "      <td>card_payin_dispute_lost</td>\n",
              "      <td>fee</td>\n",
              "      <td>cpi_3spq7b137dtln5q4spc1</td>\n",
              "      <td>None</td>\n",
              "      <td>tx_3spq7azvfalstufvmc1h</td>\n",
              "      <td>0</td>\n",
              "      <td>to_3spq7azv87k7mn5g93lh</td>\n",
              "    </tr>\n",
              "    <tr>\n",
              "      <th>112</th>\n",
              "      <td>avant</td>\n",
              "      <td>tx_3t3ngj4qc1hs77hlqql1</td>\n",
              "      <td>2021-03-18T13:35:02.179913728Z</td>\n",
              "      <td>2021-06-04T09:42:22.06439424Z</td>\n",
              "      <td>acc_3rjqcqpfc144km6bdch1</td>\n",
              "      <td>-6800</td>\n",
              "      <td>EUR</td>\n",
              "      <td>card_payin_dispute_lost</td>\n",
              "      <td>fee</td>\n",
              "      <td>cpi_3spq7dma11411zle1thh</td>\n",
              "      <td>None</td>\n",
              "      <td>tx_3spq7dm8y7yt9727cpuh</td>\n",
              "      <td>0</td>\n",
              "      <td>to_3spq7dm8pnt3pjqv9tr1</td>\n",
              "    </tr>\n",
              "    <tr>\n",
              "      <th>113</th>\n",
              "      <td>avant</td>\n",
              "      <td>tx_3t3ngj4pank1shqh7fn1</td>\n",
              "      <td>2021-03-18T13:35:39.752751104Z</td>\n",
              "      <td>2021-06-04T09:42:22.046896128Z</td>\n",
              "      <td>acc_3rjqcqpfc144km6bdch1</td>\n",
              "      <td>-5000</td>\n",
              "      <td>EUR</td>\n",
              "      <td>card_payin_dispute_lost</td>\n",
              "      <td>fee</td>\n",
              "      <td>cpi_3spq7ft9hkrvn7zgk2m1</td>\n",
              "      <td>None</td>\n",
              "      <td>tx_3spq7ft3l5sneptsekeh</td>\n",
              "      <td>0</td>\n",
              "      <td>to_3spq7ft3c5zmjxkvdpuh</td>\n",
              "    </tr>\n",
              "    <tr>\n",
              "      <th>114</th>\n",
              "      <td>avant</td>\n",
              "      <td>tx_3t3ngj4nman9tkgtv24h</td>\n",
              "      <td>2021-03-16T10:41:16.593168384Z</td>\n",
              "      <td>2021-06-04T09:42:22.035689472Z</td>\n",
              "      <td>acc_3rjqcqpfc144km6bdch1</td>\n",
              "      <td>-6900</td>\n",
              "      <td>EUR</td>\n",
              "      <td>card_payin_dispute_lost</td>\n",
              "      <td>fee</td>\n",
              "      <td>cpi_3spds4h1zptmdkhhvl3h</td>\n",
              "      <td>None</td>\n",
              "      <td>tx_3spds4gymdzfxnbny1e1</td>\n",
              "      <td>0</td>\n",
              "      <td>to_3spds4gydjuza5xc7sqh</td>\n",
              "    </tr>\n",
              "    <tr>\n",
              "      <th>115</th>\n",
              "      <td>avant</td>\n",
              "      <td>tx_3t3ngj4mmgkq5yrcvzjh</td>\n",
              "      <td>2021-03-16T10:41:35.526780928Z</td>\n",
              "      <td>2021-06-04T09:42:22.018977792Z</td>\n",
              "      <td>acc_3rjqcqpfc144km6bdch1</td>\n",
              "      <td>-6800</td>\n",
              "      <td>EUR</td>\n",
              "      <td>card_payin_dispute_lost</td>\n",
              "      <td>fee</td>\n",
              "      <td>cpi_3spds5lahqh6dlhpxzv1</td>\n",
              "      <td>None</td>\n",
              "      <td>tx_3spds5l1bbfgpk42787h</td>\n",
              "      <td>0</td>\n",
              "      <td>to_3spds5l14yqatmlzkp71</td>\n",
              "    </tr>\n",
              "    <tr>\n",
              "      <th>116</th>\n",
              "      <td>avant</td>\n",
              "      <td>tx_3t3ngj4kaar3lhu5431h</td>\n",
              "      <td>2021-03-16T10:41:53.1741184Z</td>\n",
              "      <td>2021-06-04T09:42:21.979590656Z</td>\n",
              "      <td>acc_3rjqcqpfc144km6bdch1</td>\n",
              "      <td>-5000</td>\n",
              "      <td>EUR</td>\n",
              "      <td>card_payin_dispute_lost</td>\n",
              "      <td>fee</td>\n",
              "      <td>cpi_3spds6m6dbqg8l833ll1</td>\n",
              "      <td>None</td>\n",
              "      <td>tx_3spds6k86fhmatyvpgrh</td>\n",
              "      <td>0</td>\n",
              "      <td>to_3spds6k7zasbhgj2nr7h</td>\n",
              "    </tr>\n",
              "  </tbody>\n",
              "</table>\n",
              "</div>"
            ],
            "text/plain": [
              "    company                       id  ... refunded_value                top_up_id\n",
              "111   avant  tx_3t3ngj4r4srqbys4h8y1  ...              0  to_3spq7azv87k7mn5g93lh\n",
              "112   avant  tx_3t3ngj4qc1hs77hlqql1  ...              0  to_3spq7dm8pnt3pjqv9tr1\n",
              "113   avant  tx_3t3ngj4pank1shqh7fn1  ...              0  to_3spq7ft3c5zmjxkvdpuh\n",
              "114   avant  tx_3t3ngj4nman9tkgtv24h  ...              0  to_3spds4gydjuza5xc7sqh\n",
              "115   avant  tx_3t3ngj4mmgkq5yrcvzjh  ...              0  to_3spds5l14yqatmlzkp71\n",
              "116   avant  tx_3t3ngj4kaar3lhu5431h  ...              0  to_3spds6k7zasbhgj2nr7h\n",
              "\n",
              "[6 rows x 14 columns]"
            ]
          },
          "metadata": {
            "tags": []
          },
          "execution_count": 26
        }
      ]
    },
    {
      "cell_type": "code",
      "metadata": {
        "id": "v0bAy3t_7KlS"
      },
      "source": [
        "transfer_list_df.to_csv('transfer_list.csv')\n",
        "cardpayin_list_df.to_csv('card_payin_list.csv')"
      ],
      "execution_count": null,
      "outputs": []
    },
    {
      "cell_type": "code",
      "metadata": {
        "id": "HAV8I6Gkaod_"
      },
      "source": [
        "#print(json.dumps(response_json, indent=2))"
      ],
      "execution_count": null,
      "outputs": []
    },
    {
      "cell_type": "code",
      "metadata": {
        "id": "dbTEsFmo-ryJ",
        "outputId": "7ccac8c7-2e1b-49b7-f22e-84b44ae5b7e0"
      },
      "source": [
        "len(response_json['data'])"
      ],
      "execution_count": null,
      "outputs": [
        {
          "output_type": "execute_result",
          "data": {
            "text/plain": [
              "10"
            ]
          },
          "metadata": {
            "tags": []
          },
          "execution_count": 126
        }
      ]
    },
    {
      "cell_type": "code",
      "metadata": {
        "colab": {
          "base_uri": "https://localhost:8080/"
        },
        "id": "eUqf1vWvNwX1",
        "outputId": "52ac5841-d230-4558-f395-3b517888dc87"
      },
      "source": [
        "auth_token='live-mob_secretkey_3san8rtxkt5ezlbz34m1_43c759a649130e2512e45d8a071d15c8904b391bd808b5a2'\n",
        "hed = {'Authorization': 'Bearer ' + auth_token}\n",
        "final_json = []\n",
        "url_main = 'https://api.kernelpay.com/v1'\n",
        "\n",
        "account_id = 'acc_3rjqcudcqm5817xsldx1'\n",
        "url_account_tx = url_main+'/accounts/'+account_id+'/transactions?expand=transfer,card_payin&limit=10'\n",
        "\n",
        "transaction_id = 'tx_3rn9ejt594fab8b5cnyh'\n",
        "url_tx  = url_main+'/transactions/'+transaction_id+'?expand=transfer,card_payin&limit=2'\n",
        "\n",
        "print(url_account_tx)\n",
        "\n",
        "#url = 'https://api.kernelpay.com/v1/accounts/acc_3rjqcudcqm5817xsldx1/transactions?expand=transfer'\n",
        "#url_next = 'https://api.kernelpay.com/v1/accounts/acc_3rjqcudcqm5817xsldx1/transactions?expand=transfer'\n",
        "\n",
        "response = requests.get(url_tx\n",
        "                        , headers=hed)\n",
        "#print(response)\n",
        "#print(response.json())\n",
        "response_json = response.json()\n",
        "\n",
        "response_json"
      ],
      "execution_count": null,
      "outputs": [
        {
          "output_type": "stream",
          "text": [
            "https://api.kernelpay.com/v1/accounts/acc_3rjqcudcqm5817xsldx1/transactions?expand=transfer,card_payin&limit=10\n"
          ],
          "name": "stdout"
        },
        {
          "output_type": "execute_result",
          "data": {
            "text/plain": [
              "{'id': 'tx_3rn9ejt594fab8b5cnyh',\n",
              " 'project_id': 'prj_3rhmr1vp8xcnxvfktus1',\n",
              " 'account_id': 'acc_3rjqcmjjct5qey8tstf1',\n",
              " 'type': 'card_payin',\n",
              " 'value': {'amount': 2000, 'currency': 'EUR'},\n",
              " 'balance_after': {'amount': -21, 'currency': 'EUR'},\n",
              " 'transfer_id': None,\n",
              " 'bank_payout_id': None,\n",
              " 'card_payin_id': 'cpi_3rks1xu5bh1bty9vxb7h',\n",
              " 'card_payin_refund_id': None,\n",
              " 'card_payin_dispute_id': None,\n",
              " 'bank_payin_id': None,\n",
              " 'card_payin': {'id': 'cpi_3rks1xu5bh1bty9vxb7h',\n",
              "  'project_id': 'prj_3rhmr1vp8xcnxvfktus1',\n",
              "  'state': 'settled',\n",
              "  'card_id': None,\n",
              "  'sca_card_id': None,\n",
              "  'account_id': 'acc_3rjqcmjjct5qey8tstf1',\n",
              "  'transaction_id': 'tx_3rn9ejt594fab8b5cnyh',\n",
              "  'calculated_statement_descriptor': 'KernelPay',\n",
              "  'authentication_type': 'none',\n",
              "  'authentication_url': '',\n",
              "  'authentication_redirect_url': '',\n",
              "  'value': {'amount': 2000, 'currency': 'EUR'},\n",
              "  'refunded_value': {'amount': 0, 'currency': 'EUR'},\n",
              "  'meta': {},\n",
              "  'offline': None,\n",
              "  'created_at': '2020-07-27T09:01:25.431443456Z'},\n",
              " 'created_at': '2020-08-12T13:00:08.257921024Z'}"
            ]
          },
          "metadata": {
            "tags": []
          },
          "execution_count": 143
        }
      ]
    },
    {
      "cell_type": "code",
      "metadata": {
        "colab": {
          "base_uri": "https://localhost:8080/"
        },
        "id": "sFO9cnTuN4ng",
        "outputId": "9826c584-e22c-4f3d-80d3-c94d7b4006ec"
      },
      "source": [
        "len(response_json['data'])"
      ],
      "execution_count": null,
      "outputs": [
        {
          "output_type": "execute_result",
          "data": {
            "text/plain": [
              "32"
            ]
          },
          "metadata": {
            "tags": []
          },
          "execution_count": 128
        }
      ]
    },
    {
      "cell_type": "code",
      "metadata": {
        "id": "13Bchm-JOMkT"
      },
      "source": [
        "from google.cloud import bigquery\n",
        "\n",
        "def send_to_bigquery(df,dataset,table):\n",
        "     client = bigquery.Client(project = 'reby-cloud')\n",
        "     table_id = 'reby-cloud.'+dataset+'.'+table\n",
        "     print('table_id: {}'.format(table_id))\n",
        "     #print(df)\n",
        "     job_config = bigquery.LoadJobConfig()\n",
        "     job_config.schema_autodetect = True\n",
        "     job_config.write_disposition = 'WRITE_TRUNCATE'\n",
        "     job_config.create_disposition = 'CREATE_IF_NEEDED'\n",
        "     job = client.load_table_from_dataframe(df, table_id,job_config=job_config)\n",
        "     # Wait for the load job to complete.\n",
        "     result = job.result()\n",
        "     #print(result)\n",
        "     return 'dataframe appended'"
      ],
      "execution_count": null,
      "outputs": []
    },
    {
      "cell_type": "code",
      "metadata": {
        "id": "cCW1IEub7KlT",
        "outputId": "c91c3472-5297-44a9-daf1-0ab081d39c16"
      },
      "source": [
        "send_to_bigquery(transfer_list_df,'kernel_eu','transfer_list')\n",
        "send_to_bigquery(cardpayin_list_df,'kernel_eu','card_payin_list')\n",
        "send_to_bigquery(bankpayout_list_df,'kernel_eu','bank_payout_list')"
      ],
      "execution_count": null,
      "outputs": [
        {
          "output_type": "stream",
          "text": [
            "table_id: reby-cloud.kernel_eu.transfer_list\n"
          ],
          "name": "stdout"
        },
        {
          "output_type": "stream",
          "text": [
            "/Users/alvaroferrer/anaconda3/lib/python3.7/site-packages/google/cloud/bigquery/_pandas_helpers.py:275: UserWarning: Unable to determine type of column 'company'.\n",
            "  warnings.warn(u\"Unable to determine type of column '{}'.\".format(column))\n"
          ],
          "name": "stderr"
        },
        {
          "output_type": "stream",
          "text": [
            "table_id: reby-cloud.kernel_eu.card_payin_list\n",
            "table_id: reby-cloud.kernel_eu.bank_payout_list\n"
          ],
          "name": "stdout"
        },
        {
          "output_type": "execute_result",
          "data": {
            "text/plain": [
              "'dataframe appended'"
            ]
          },
          "metadata": {
            "tags": []
          },
          "execution_count": 8
        }
      ]
    },
    {
      "cell_type": "code",
      "metadata": {
        "id": "b_Zq21R37KlU"
      },
      "source": [
        ""
      ],
      "execution_count": null,
      "outputs": []
    }
  ]
}